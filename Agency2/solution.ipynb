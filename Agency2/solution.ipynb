{
 "cells": [
  {
   "cell_type": "code",
   "execution_count": 28,
   "outputs": [],
   "source": [
    "import csv\n",
    "import math\n",
    "import sys\n",
    "\n",
    "import pandas as pd\n",
    "import numpy as np\n",
    "import seaborn as sns\n",
    "from matplotlib import pyplot \n",
    "import optuna\n",
    "\n",
    "from sklearn import *"
   ],
   "metadata": {
    "collapsed": false,
    "ExecuteTime": {
     "end_time": "2024-03-05T10:46:44.631610832Z",
     "start_time": "2024-03-05T10:46:44.253430441Z"
    }
   },
   "id": "9ca7c55f73adb46e"
  },
  {
   "cell_type": "markdown",
   "source": [
    "# Подготовка данных"
   ],
   "metadata": {
    "collapsed": false
   },
   "id": "233ff238a2e08378"
  },
  {
   "cell_type": "code",
   "execution_count": 29,
   "outputs": [],
   "source": [
    "train_data = pd.read_csv(\"data/train.csv\")\n",
    "test_data = pd.read_csv(\"data/test.csv\")\n",
    "\n",
    "target_labels = [\"Оператор\", \"Есть ли Интернет\", \"Состав ДХ\"]\n",
    "\n",
    "y = train_data.loc[:, target_labels]\n",
    "X = train_data.drop(target_labels, axis=1)"
   ],
   "metadata": {
    "collapsed": false,
    "ExecuteTime": {
     "end_time": "2024-03-05T10:46:44.715027166Z",
     "start_time": "2024-03-05T10:46:44.637683804Z"
    }
   },
   "id": "93501903358f29d5"
  },
  {
   "cell_type": "code",
   "execution_count": 30,
   "outputs": [],
   "source": [
    "index_of_test_data_beginning = len(X.index)\n",
    "X = pd.concat([X, test_data], ignore_index=True)\n",
    "\n",
    "X.drop([\"id\", \"hhid\"], axis=1, inplace=True)"
   ],
   "metadata": {
    "collapsed": false,
    "ExecuteTime": {
     "end_time": "2024-03-05T10:46:44.744157686Z",
     "start_time": "2024-03-05T10:46:44.692874394Z"
    }
   },
   "id": "812913e083f6969b"
  },
  {
   "cell_type": "code",
   "execution_count": 31,
   "outputs": [],
   "source": [
    "family = y[\"Состав ДХ\"].apply(lambda x: x.split(\" и \"))\n",
    "y.drop(\"Состав ДХ\", axis=1, inplace=True)\n",
    "\n",
    "elder_generation  = family.transform(lambda x: x[0])\n",
    "children = family.transform(lambda x: x[1])\n",
    "\n",
    "y[\"Члены семьи в возрасте от 55 лет\"] = elder_generation\n",
    "y[\"Члены семьи до 18 лет\"] = children"
   ],
   "metadata": {
    "collapsed": false,
    "ExecuteTime": {
     "end_time": "2024-03-05T10:46:44.811966770Z",
     "start_time": "2024-03-05T10:46:44.734465542Z"
    }
   },
   "id": "da5fa762f61590bd"
  },
  {
   "cell_type": "markdown",
   "source": [
    "##### Для повышения качества предсказания состава ДХ не лишено смысла свести данную задачу к предсказанию наличия членов семьи в возрасте от 55 и до 18 лет по отдельности."
   ],
   "metadata": {
    "collapsed": false
   },
   "id": "73f5343b79b38ea6"
  },
  {
   "cell_type": "code",
   "execution_count": 32,
   "outputs": [],
   "source": [
    "# Держим несколько кодировщиков для дальнейшего вызова inverse_transform().\n",
    "encoder_per_label = {\n",
    "    \"Оператор\": preprocessing.LabelEncoder(),\n",
    "    \"Есть ли Интернет\": preprocessing.LabelEncoder(),\n",
    "    \"Члены семьи в возрасте от 55 лет\": preprocessing.LabelEncoder(),\n",
    "    \"Члены семьи до 18 лет\": preprocessing.LabelEncoder()\n",
    "}\n",
    "\n",
    "for label in encoder_per_label.keys():\n",
    "    y[label] = encoder_per_label[label].fit_transform(y[label])\n",
    "\n",
    "predictor_col_names = list(encoder_per_label.keys())"
   ],
   "metadata": {
    "collapsed": false,
    "ExecuteTime": {
     "end_time": "2024-03-05T10:46:44.837105503Z",
     "start_time": "2024-03-05T10:46:44.758397536Z"
    }
   },
   "id": "5e7888f54d6be506"
  },
  {
   "cell_type": "markdown",
   "source": [
    "##### В частности закодируем тип населенного пункта для заполнения пропусков."
   ],
   "metadata": {
    "collapsed": false
   },
   "id": "ce72e04bdf9069d"
  },
  {
   "cell_type": "code",
   "execution_count": 33,
   "outputs": [
    {
     "data": {
      "text/plain": "      Тип ресивера Тип нас.пункта\n0                0              2\n1                1              1\n2                0              0\n3                1              3\n4                0              3\n...            ...            ...\n4050             0              0\n4051             1              3\n4052             0              0\n4053             1              0\n4054             1              3\n\n[4055 rows x 2 columns]",
      "text/html": "<div>\n<style scoped>\n    .dataframe tbody tr th:only-of-type {\n        vertical-align: middle;\n    }\n\n    .dataframe tbody tr th {\n        vertical-align: top;\n    }\n\n    .dataframe thead th {\n        text-align: right;\n    }\n</style>\n<table border=\"1\" class=\"dataframe\">\n  <thead>\n    <tr style=\"text-align: right;\">\n      <th></th>\n      <th>Тип ресивера</th>\n      <th>Тип нас.пункта</th>\n    </tr>\n  </thead>\n  <tbody>\n    <tr>\n      <th>0</th>\n      <td>0</td>\n      <td>2</td>\n    </tr>\n    <tr>\n      <th>1</th>\n      <td>1</td>\n      <td>1</td>\n    </tr>\n    <tr>\n      <th>2</th>\n      <td>0</td>\n      <td>0</td>\n    </tr>\n    <tr>\n      <th>3</th>\n      <td>1</td>\n      <td>3</td>\n    </tr>\n    <tr>\n      <th>4</th>\n      <td>0</td>\n      <td>3</td>\n    </tr>\n    <tr>\n      <th>...</th>\n      <td>...</td>\n      <td>...</td>\n    </tr>\n    <tr>\n      <th>4050</th>\n      <td>0</td>\n      <td>0</td>\n    </tr>\n    <tr>\n      <th>4051</th>\n      <td>1</td>\n      <td>3</td>\n    </tr>\n    <tr>\n      <th>4052</th>\n      <td>0</td>\n      <td>0</td>\n    </tr>\n    <tr>\n      <th>4053</th>\n      <td>1</td>\n      <td>0</td>\n    </tr>\n    <tr>\n      <th>4054</th>\n      <td>1</td>\n      <td>3</td>\n    </tr>\n  </tbody>\n</table>\n<p>4055 rows × 2 columns</p>\n</div>"
     },
     "execution_count": 33,
     "metadata": {},
     "output_type": "execute_result"
    }
   ],
   "source": [
    "categorical_encoder = preprocessing.LabelEncoder()\n",
    "\n",
    "X.loc[:, [\"Тип ресивера\", \"Тип нас.пункта\"]] = X.loc[:, [\"Тип ресивера\", \"Тип нас.пункта\"]].apply(categorical_encoder.fit_transform)\n",
    "X[\"Тип нас.пункта\"].where(lambda x: x != 4, other=np.nan, inplace=True)\n",
    "X[\"Тип ресивера\"] = X[\"Тип ресивера\"].astype(int)\n",
    "\n",
    "# X.loc[:, [\"Тип ресивера\", \"ФО\", \"Тип нас.пункта\"]]\n",
    "X.loc[:, [\"Тип ресивера\", \"Тип нас.пункта\"]]"
   ],
   "metadata": {
    "collapsed": false,
    "ExecuteTime": {
     "end_time": "2024-03-05T10:46:44.947640844Z",
     "start_time": "2024-03-05T10:46:44.829042332Z"
    }
   },
   "id": "6711322d7b07adbc"
  },
  {
   "cell_type": "code",
   "execution_count": 34,
   "outputs": [
    {
     "data": {
      "text/plain": "0       0.029493\n1       0.073988\n2       0.056808\n3       0.073300\n4       0.027209\n          ...   \n4050    0.024771\n4051    0.050144\n4052    0.056676\n4053    0.106202\n4054    0.027834\nName: Почтовый индекс, Length: 4055, dtype: float64"
     },
     "execution_count": 34,
     "metadata": {},
     "output_type": "execute_result"
    }
   ],
   "source": [
    "scaler = preprocessing.MinMaxScaler()\n",
    "post_index = X[\"Почтовый индекс\"].to_numpy().reshape(-1, 1)\n",
    "\n",
    "X[\"Почтовый индекс\"] = scaler.fit_transform(post_index)\n",
    "\n",
    "X[\"Почтовый индекс\"]"
   ],
   "metadata": {
    "collapsed": false,
    "ExecuteTime": {
     "end_time": "2024-03-05T10:46:45.014641844Z",
     "start_time": "2024-03-05T10:46:44.936624278Z"
    }
   },
   "id": "e43fdde8fd0ca4d0"
  },
  {
   "cell_type": "code",
   "execution_count": 35,
   "outputs": [
    {
     "data": {
      "text/plain": "Общее телесмотрение                            0\nТелесмотрение ночью                            0\nТелесмотрение утром                           25\nТелесмотрение в рабочее время                  0\nТелесмотрение в вечернее время                 0\nТелесмотрение в прайм тайм                     0\nОбщее телесмотрение Пн-Пт                     25\nТелесмотрение ночью Пн-Пт                      0\nТелесмотрение утром Пн-Пт                      0\nТелесмотрение в рабочее время Пн-Пт            0\nТелесмотрение в вечернее время Пн-Пт           0\nТелесмотрение в прайм тайм Пн-Пт               0\nОбщее телесмотрение в выходные                 0\nТелесмотрение ночью в выходные                 0\nТелесмотрение утром в выходные                 0\nТелесмотрение в рабочее время в выходные       0\nТелесмотрение вечером в выходные               0\nТелесмотрение в прайм тайм в выходные          0\nПросмотр жанра кино в рабочее время            0\nПросмотр жанра кино в праздники                0\nПросмотр жанра приключения в рабочее время     0\nПросмотр жанра приключение в праздники         0\nПросмотра жанра сад в рабочее время            0\nПросмотр жанра сад в праздники                 0\nПросмотра жанра комедия в рабочее время        0\nПросмотр жанра комедия в праздники             0\nПросмотр жанра хоби в рабочее время            0\nПросмотр жанра хобби в праздники               0\nПросмотр жанра спорт в рабочее время           0\nПросмотр жанра спорт в праздники               0\nПросмотр жанра музыка в рабочее время          0\nПросмотр жанра музыка в праздники              0\nПросмотр жанра образования в рабочее время     0\nПросмотр жанра образование в праздники         0\nРазмер ДХ                                     25\nТип ресивера                                   0\nФО                                             0\nТип нас.пункта                                25\nПочтовый индекс                                0\ndtype: int64"
     },
     "execution_count": 35,
     "metadata": {},
     "output_type": "execute_result"
    }
   ],
   "source": [
    "X.isna().sum()"
   ],
   "metadata": {
    "collapsed": false,
    "ExecuteTime": {
     "end_time": "2024-03-05T10:46:45.059948883Z",
     "start_time": "2024-03-05T10:46:44.998261296Z"
    }
   },
   "id": "fbaec9078143bcf9"
  },
  {
   "cell_type": "markdown",
   "source": [
    "##### Начнем с заполнения пропусков для утреннего телесмотрения. Как вариант возможно проссуммировать телесмотрения в различное время суток и вычесть из общего телесмотрения."
   ],
   "metadata": {
    "collapsed": false
   },
   "id": "55c8342f2cdf415b"
  },
  {
   "cell_type": "code",
   "execution_count": 36,
   "outputs": [
    {
     "data": {
      "text/plain": "      Общее телесмотрение  Телесмотрение ночью  Телесмотрение утром  \\\n987                   578                  123                 42.0   \n988                   504                    0                131.0   \n989                   409                  110                  0.0   \n990                  1517                    0                146.0   \n991                    49                    0                  0.0   \n992                  1047                   77                160.0   \n993                   227                    0                 16.0   \n994                  1690                    3                123.0   \n995                   411                    0                134.0   \n996                  2164                  431                265.0   \n997                  3068                  266                541.0   \n998                  1935                  182                261.0   \n999                  1358                  169                211.0   \n1000                 1935                  151                207.0   \n1001                  264                  106                  0.0   \n1002                 1265                   18                441.0   \n1003                 3156                  113                550.0   \n1004                 1575                    0                  0.0   \n1005                 1855                  440                480.0   \n1006                 1874                    0                233.0   \n1007                 1157                    0                127.0   \n1008                  701                    9                183.0   \n1009                  686                  175                194.0   \n1010                  847                   43                126.0   \n1011                 1380                  143                219.0   \n\n      Телесмотрение в рабочее время  Телесмотрение в вечернее время  \\\n987                             336                              77   \n988                             225                             121   \n989                             282                              17   \n990                            1202                             156   \n991                              49                               0   \n992                             507                             123   \n993                             211                               0   \n994                             905                             425   \n995                             248                              29   \n996                            1083                             199   \n997                            1834                             305   \n998                            1246                             206   \n999                             978                               0   \n1000                           1117                             221   \n1001                            158                               0   \n1002                            712                              94   \n1003                           1888                             267   \n1004                            709                             484   \n1005                            935                               0   \n1006                           1470                             149   \n1007                            915                             115   \n1008                            508                               1   \n1009                            317                               0   \n1010                            581                              97   \n1011                           1010                               8   \n\n      Телесмотрение в прайм тайм  Общее телесмотрение Пн-Пт  \\\n987                            0                      429.0   \n988                           27                      308.0   \n989                            0                      408.0   \n990                           13                      617.0   \n991                            0                        0.0   \n992                          180                       76.0   \n993                            0                      211.0   \n994                          234                      704.0   \n995                            0                      159.0   \n996                          186                      819.0   \n997                          122                     1377.0   \n998                           40                     1324.0   \n999                            0                      630.0   \n1000                         239                        NaN   \n1001                           0                        NaN   \n1002                           0                        NaN   \n1003                         338                        NaN   \n1004                         382                        NaN   \n1005                           0                        NaN   \n1006                          22                        NaN   \n1007                           0                        NaN   \n1008                           0                        NaN   \n1009                           0                        NaN   \n1010                           0                        NaN   \n1011                           0                        NaN   \n\n      Телесмотрение ночью Пн-Пт  Телесмотрение утром Пн-Пт  \\\n987                           0                         17   \n988                           0                          0   \n989                         109                          0   \n990                           0                        118   \n991                           0                          0   \n992                          76                          0   \n993                           0                          0   \n994                           2                         53   \n995                           0                        129   \n996                         111                        155   \n997                          67                        361   \n998                           0                        261   \n999                         109                        131   \n1000                          4                          0   \n1001                         16                          0   \n1002                          0                          0   \n1003                         60                        185   \n1004                          0                          0   \n1005                         76                         51   \n1006                          0                        233   \n1007                          0                        127   \n1008                          9                        183   \n1009                        175                        186   \n1010                          0                          0   \n1011                        143                        181   \n\n      Телесмотрение в рабочее время Пн-Пт  ...  \\\n987                                   335  ...   \n988                                   160  ...   \n989                                   282  ...   \n990                                   499  ...   \n991                                     0  ...   \n992                                     0  ...   \n993                                   211  ...   \n994                                   300  ...   \n995                                    30  ...   \n996                                   218  ...   \n997                                   777  ...   \n998                                   897  ...   \n999                                   390  ...   \n1000                                   79  ...   \n1001                                   24  ...   \n1002                                    0  ...   \n1003                                  881  ...   \n1004                                  372  ...   \n1005                                  145  ...   \n1006                                  847  ...   \n1007                                  379  ...   \n1008                                  431  ...   \n1009                                  299  ...   \n1010                                    0  ...   \n1011                                  352  ...   \n\n      Просмотр жанра спорт в праздники  Просмотр жанра музыка в рабочее время  \\\n987                                  0                                      1   \n988                                 24                                      0   \n989                                  0                                      0   \n990                                  0                                    105   \n991                                  0                                      0   \n992                                  0                                      0   \n993                                  0                                      0   \n994                                 10                                      0   \n995                                  0                                      0   \n996                                  0                                      0   \n997                                  1                                    165   \n998                                  0                                     14   \n999                                  0                                      0   \n1000                                 0                                      0   \n1001                                 0                                      0   \n1002                                 0                                      0   \n1003                                 0                                      0   \n1004                                 0                                      0   \n1005                                 0                                      0   \n1006                                 0                                      0   \n1007                                 0                                      0   \n1008                                 0                                      0   \n1009                                 0                                      0   \n1010                                 0                                      0   \n1011                                 0                                      0   \n\n      Просмотр жанра музыка в праздники  \\\n987                                   0   \n988                                   0   \n989                                   0   \n990                                  26   \n991                                   0   \n992                                   0   \n993                                   0   \n994                                   0   \n995                                   0   \n996                                   0   \n997                                   0   \n998                                   0   \n999                                   0   \n1000                                  0   \n1001                                  0   \n1002                                  0   \n1003                                  0   \n1004                                  0   \n1005                                  0   \n1006                                  0   \n1007                                  0   \n1008                                  0   \n1009                                  0   \n1010                                  0   \n1011                                  0   \n\n      Просмотр жанра образования в рабочее время  \\\n987                                            0   \n988                                            0   \n989                                            3   \n990                                            0   \n991                                            0   \n992                                            0   \n993                                            0   \n994                                            0   \n995                                            0   \n996                                            1   \n997                                            0   \n998                                            0   \n999                                           61   \n1000                                           0   \n1001                                           0   \n1002                                           0   \n1003                                           0   \n1004                                           0   \n1005                                           0   \n1006                                           0   \n1007                                           0   \n1008                                           0   \n1009                                           0   \n1010                                           0   \n1011                                           0   \n\n      Просмотр жанра образование в праздники  Размер ДХ  Тип ресивера  \\\n987                                        0        3.0             1   \n988                                        0        2.0             1   \n989                                        0        2.0             0   \n990                                        0        4.0             1   \n991                                        0        2.0             1   \n992                                        0        3.0             1   \n993                                        0        2.0             1   \n994                                        0        1.0             1   \n995                                        0        4.0             1   \n996                                        0        2.0             1   \n997                                        0        4.0             1   \n998                                        0        2.0             0   \n999                                       57        3.0             1   \n1000                                       0        2.0             1   \n1001                                       0        3.0             0   \n1002                                       0        6.0             0   \n1003                                      22        3.0             1   \n1004                                       0        3.0             1   \n1005                                       0        4.0             0   \n1006                                       0        2.0             1   \n1007                                       0        5.0             1   \n1008                                       0        6.0             1   \n1009                                       0        2.0             1   \n1010                                       2        3.0             1   \n1011                                       0        2.0             0   \n\n                                       ФО  Тип нас.пункта  Почтовый индекс  \n987         Приволжский федеральный округ               2         0.099896  \n988         Приволжский федеральный округ               3         0.073178  \n989           Уральский федеральный округ               2         0.100704  \n990               Южный федеральный округ               3         0.057215  \n991               Южный федеральный округ               3         0.057207  \n992         Центральный федеральный округ               2         0.023151  \n993         Центральный федеральный округ               3         0.064169  \n994     Северо-Западный федеральный округ               3         0.029231  \n995     Северо-Западный федеральный округ               1         0.027428  \n996               Южный федеральный округ               3         0.056283  \n997           Уральский федеральный округ               3         0.101097  \n998               Южный федеральный округ               3         0.056259  \n999           Уральский федеральный округ               3         0.073974  \n1000              Южный федеральный округ               3         0.057216  \n1001          Уральский федеральный округ               3         0.073887  \n1002        Приволжский федеральный округ               1         0.098254  \n1003              Южный федеральный округ               3         0.056259  \n1004        Приволжский федеральный округ               3         0.074923  \n1005        Приволжский федеральный округ               1         0.068564  \n1006        Центральный федеральный округ               1         0.027829  \n1007              Южный федеральный округ               3         0.057308  \n1008  Северо-Кавказский федеральный округ               3         0.059333  \n1009        Центральный федеральный округ               3         0.024747  \n1010        Приволжский федеральный округ               1         0.099271  \n1011        Центральный федеральный округ               0         0.024287  \n\n[25 rows x 39 columns]",
      "text/html": "<div>\n<style scoped>\n    .dataframe tbody tr th:only-of-type {\n        vertical-align: middle;\n    }\n\n    .dataframe tbody tr th {\n        vertical-align: top;\n    }\n\n    .dataframe thead th {\n        text-align: right;\n    }\n</style>\n<table border=\"1\" class=\"dataframe\">\n  <thead>\n    <tr style=\"text-align: right;\">\n      <th></th>\n      <th>Общее телесмотрение</th>\n      <th>Телесмотрение ночью</th>\n      <th>Телесмотрение утром</th>\n      <th>Телесмотрение в рабочее время</th>\n      <th>Телесмотрение в вечернее время</th>\n      <th>Телесмотрение в прайм тайм</th>\n      <th>Общее телесмотрение Пн-Пт</th>\n      <th>Телесмотрение ночью Пн-Пт</th>\n      <th>Телесмотрение утром Пн-Пт</th>\n      <th>Телесмотрение в рабочее время Пн-Пт</th>\n      <th>...</th>\n      <th>Просмотр жанра спорт в праздники</th>\n      <th>Просмотр жанра музыка в рабочее время</th>\n      <th>Просмотр жанра музыка в праздники</th>\n      <th>Просмотр жанра образования в рабочее время</th>\n      <th>Просмотр жанра образование в праздники</th>\n      <th>Размер ДХ</th>\n      <th>Тип ресивера</th>\n      <th>ФО</th>\n      <th>Тип нас.пункта</th>\n      <th>Почтовый индекс</th>\n    </tr>\n  </thead>\n  <tbody>\n    <tr>\n      <th>987</th>\n      <td>578</td>\n      <td>123</td>\n      <td>42.0</td>\n      <td>336</td>\n      <td>77</td>\n      <td>0</td>\n      <td>429.0</td>\n      <td>0</td>\n      <td>17</td>\n      <td>335</td>\n      <td>...</td>\n      <td>0</td>\n      <td>1</td>\n      <td>0</td>\n      <td>0</td>\n      <td>0</td>\n      <td>3.0</td>\n      <td>1</td>\n      <td>Приволжский федеральный округ</td>\n      <td>2</td>\n      <td>0.099896</td>\n    </tr>\n    <tr>\n      <th>988</th>\n      <td>504</td>\n      <td>0</td>\n      <td>131.0</td>\n      <td>225</td>\n      <td>121</td>\n      <td>27</td>\n      <td>308.0</td>\n      <td>0</td>\n      <td>0</td>\n      <td>160</td>\n      <td>...</td>\n      <td>24</td>\n      <td>0</td>\n      <td>0</td>\n      <td>0</td>\n      <td>0</td>\n      <td>2.0</td>\n      <td>1</td>\n      <td>Приволжский федеральный округ</td>\n      <td>3</td>\n      <td>0.073178</td>\n    </tr>\n    <tr>\n      <th>989</th>\n      <td>409</td>\n      <td>110</td>\n      <td>0.0</td>\n      <td>282</td>\n      <td>17</td>\n      <td>0</td>\n      <td>408.0</td>\n      <td>109</td>\n      <td>0</td>\n      <td>282</td>\n      <td>...</td>\n      <td>0</td>\n      <td>0</td>\n      <td>0</td>\n      <td>3</td>\n      <td>0</td>\n      <td>2.0</td>\n      <td>0</td>\n      <td>Уральский федеральный округ</td>\n      <td>2</td>\n      <td>0.100704</td>\n    </tr>\n    <tr>\n      <th>990</th>\n      <td>1517</td>\n      <td>0</td>\n      <td>146.0</td>\n      <td>1202</td>\n      <td>156</td>\n      <td>13</td>\n      <td>617.0</td>\n      <td>0</td>\n      <td>118</td>\n      <td>499</td>\n      <td>...</td>\n      <td>0</td>\n      <td>105</td>\n      <td>26</td>\n      <td>0</td>\n      <td>0</td>\n      <td>4.0</td>\n      <td>1</td>\n      <td>Южный федеральный округ</td>\n      <td>3</td>\n      <td>0.057215</td>\n    </tr>\n    <tr>\n      <th>991</th>\n      <td>49</td>\n      <td>0</td>\n      <td>0.0</td>\n      <td>49</td>\n      <td>0</td>\n      <td>0</td>\n      <td>0.0</td>\n      <td>0</td>\n      <td>0</td>\n      <td>0</td>\n      <td>...</td>\n      <td>0</td>\n      <td>0</td>\n      <td>0</td>\n      <td>0</td>\n      <td>0</td>\n      <td>2.0</td>\n      <td>1</td>\n      <td>Южный федеральный округ</td>\n      <td>3</td>\n      <td>0.057207</td>\n    </tr>\n    <tr>\n      <th>992</th>\n      <td>1047</td>\n      <td>77</td>\n      <td>160.0</td>\n      <td>507</td>\n      <td>123</td>\n      <td>180</td>\n      <td>76.0</td>\n      <td>76</td>\n      <td>0</td>\n      <td>0</td>\n      <td>...</td>\n      <td>0</td>\n      <td>0</td>\n      <td>0</td>\n      <td>0</td>\n      <td>0</td>\n      <td>3.0</td>\n      <td>1</td>\n      <td>Центральный федеральный округ</td>\n      <td>2</td>\n      <td>0.023151</td>\n    </tr>\n    <tr>\n      <th>993</th>\n      <td>227</td>\n      <td>0</td>\n      <td>16.0</td>\n      <td>211</td>\n      <td>0</td>\n      <td>0</td>\n      <td>211.0</td>\n      <td>0</td>\n      <td>0</td>\n      <td>211</td>\n      <td>...</td>\n      <td>0</td>\n      <td>0</td>\n      <td>0</td>\n      <td>0</td>\n      <td>0</td>\n      <td>2.0</td>\n      <td>1</td>\n      <td>Центральный федеральный округ</td>\n      <td>3</td>\n      <td>0.064169</td>\n    </tr>\n    <tr>\n      <th>994</th>\n      <td>1690</td>\n      <td>3</td>\n      <td>123.0</td>\n      <td>905</td>\n      <td>425</td>\n      <td>234</td>\n      <td>704.0</td>\n      <td>2</td>\n      <td>53</td>\n      <td>300</td>\n      <td>...</td>\n      <td>10</td>\n      <td>0</td>\n      <td>0</td>\n      <td>0</td>\n      <td>0</td>\n      <td>1.0</td>\n      <td>1</td>\n      <td>Северо-Западный федеральный округ</td>\n      <td>3</td>\n      <td>0.029231</td>\n    </tr>\n    <tr>\n      <th>995</th>\n      <td>411</td>\n      <td>0</td>\n      <td>134.0</td>\n      <td>248</td>\n      <td>29</td>\n      <td>0</td>\n      <td>159.0</td>\n      <td>0</td>\n      <td>129</td>\n      <td>30</td>\n      <td>...</td>\n      <td>0</td>\n      <td>0</td>\n      <td>0</td>\n      <td>0</td>\n      <td>0</td>\n      <td>4.0</td>\n      <td>1</td>\n      <td>Северо-Западный федеральный округ</td>\n      <td>1</td>\n      <td>0.027428</td>\n    </tr>\n    <tr>\n      <th>996</th>\n      <td>2164</td>\n      <td>431</td>\n      <td>265.0</td>\n      <td>1083</td>\n      <td>199</td>\n      <td>186</td>\n      <td>819.0</td>\n      <td>111</td>\n      <td>155</td>\n      <td>218</td>\n      <td>...</td>\n      <td>0</td>\n      <td>0</td>\n      <td>0</td>\n      <td>1</td>\n      <td>0</td>\n      <td>2.0</td>\n      <td>1</td>\n      <td>Южный федеральный округ</td>\n      <td>3</td>\n      <td>0.056283</td>\n    </tr>\n    <tr>\n      <th>997</th>\n      <td>3068</td>\n      <td>266</td>\n      <td>541.0</td>\n      <td>1834</td>\n      <td>305</td>\n      <td>122</td>\n      <td>1377.0</td>\n      <td>67</td>\n      <td>361</td>\n      <td>777</td>\n      <td>...</td>\n      <td>1</td>\n      <td>165</td>\n      <td>0</td>\n      <td>0</td>\n      <td>0</td>\n      <td>4.0</td>\n      <td>1</td>\n      <td>Уральский федеральный округ</td>\n      <td>3</td>\n      <td>0.101097</td>\n    </tr>\n    <tr>\n      <th>998</th>\n      <td>1935</td>\n      <td>182</td>\n      <td>261.0</td>\n      <td>1246</td>\n      <td>206</td>\n      <td>40</td>\n      <td>1324.0</td>\n      <td>0</td>\n      <td>261</td>\n      <td>897</td>\n      <td>...</td>\n      <td>0</td>\n      <td>14</td>\n      <td>0</td>\n      <td>0</td>\n      <td>0</td>\n      <td>2.0</td>\n      <td>0</td>\n      <td>Южный федеральный округ</td>\n      <td>3</td>\n      <td>0.056259</td>\n    </tr>\n    <tr>\n      <th>999</th>\n      <td>1358</td>\n      <td>169</td>\n      <td>211.0</td>\n      <td>978</td>\n      <td>0</td>\n      <td>0</td>\n      <td>630.0</td>\n      <td>109</td>\n      <td>131</td>\n      <td>390</td>\n      <td>...</td>\n      <td>0</td>\n      <td>0</td>\n      <td>0</td>\n      <td>61</td>\n      <td>57</td>\n      <td>3.0</td>\n      <td>1</td>\n      <td>Уральский федеральный округ</td>\n      <td>3</td>\n      <td>0.073974</td>\n    </tr>\n    <tr>\n      <th>1000</th>\n      <td>1935</td>\n      <td>151</td>\n      <td>207.0</td>\n      <td>1117</td>\n      <td>221</td>\n      <td>239</td>\n      <td>NaN</td>\n      <td>4</td>\n      <td>0</td>\n      <td>79</td>\n      <td>...</td>\n      <td>0</td>\n      <td>0</td>\n      <td>0</td>\n      <td>0</td>\n      <td>0</td>\n      <td>2.0</td>\n      <td>1</td>\n      <td>Южный федеральный округ</td>\n      <td>3</td>\n      <td>0.057216</td>\n    </tr>\n    <tr>\n      <th>1001</th>\n      <td>264</td>\n      <td>106</td>\n      <td>0.0</td>\n      <td>158</td>\n      <td>0</td>\n      <td>0</td>\n      <td>NaN</td>\n      <td>16</td>\n      <td>0</td>\n      <td>24</td>\n      <td>...</td>\n      <td>0</td>\n      <td>0</td>\n      <td>0</td>\n      <td>0</td>\n      <td>0</td>\n      <td>3.0</td>\n      <td>0</td>\n      <td>Уральский федеральный округ</td>\n      <td>3</td>\n      <td>0.073887</td>\n    </tr>\n    <tr>\n      <th>1002</th>\n      <td>1265</td>\n      <td>18</td>\n      <td>441.0</td>\n      <td>712</td>\n      <td>94</td>\n      <td>0</td>\n      <td>NaN</td>\n      <td>0</td>\n      <td>0</td>\n      <td>0</td>\n      <td>...</td>\n      <td>0</td>\n      <td>0</td>\n      <td>0</td>\n      <td>0</td>\n      <td>0</td>\n      <td>6.0</td>\n      <td>0</td>\n      <td>Приволжский федеральный округ</td>\n      <td>1</td>\n      <td>0.098254</td>\n    </tr>\n    <tr>\n      <th>1003</th>\n      <td>3156</td>\n      <td>113</td>\n      <td>550.0</td>\n      <td>1888</td>\n      <td>267</td>\n      <td>338</td>\n      <td>NaN</td>\n      <td>60</td>\n      <td>185</td>\n      <td>881</td>\n      <td>...</td>\n      <td>0</td>\n      <td>0</td>\n      <td>0</td>\n      <td>0</td>\n      <td>22</td>\n      <td>3.0</td>\n      <td>1</td>\n      <td>Южный федеральный округ</td>\n      <td>3</td>\n      <td>0.056259</td>\n    </tr>\n    <tr>\n      <th>1004</th>\n      <td>1575</td>\n      <td>0</td>\n      <td>0.0</td>\n      <td>709</td>\n      <td>484</td>\n      <td>382</td>\n      <td>NaN</td>\n      <td>0</td>\n      <td>0</td>\n      <td>372</td>\n      <td>...</td>\n      <td>0</td>\n      <td>0</td>\n      <td>0</td>\n      <td>0</td>\n      <td>0</td>\n      <td>3.0</td>\n      <td>1</td>\n      <td>Приволжский федеральный округ</td>\n      <td>3</td>\n      <td>0.074923</td>\n    </tr>\n    <tr>\n      <th>1005</th>\n      <td>1855</td>\n      <td>440</td>\n      <td>480.0</td>\n      <td>935</td>\n      <td>0</td>\n      <td>0</td>\n      <td>NaN</td>\n      <td>76</td>\n      <td>51</td>\n      <td>145</td>\n      <td>...</td>\n      <td>0</td>\n      <td>0</td>\n      <td>0</td>\n      <td>0</td>\n      <td>0</td>\n      <td>4.0</td>\n      <td>0</td>\n      <td>Приволжский федеральный округ</td>\n      <td>1</td>\n      <td>0.068564</td>\n    </tr>\n    <tr>\n      <th>1006</th>\n      <td>1874</td>\n      <td>0</td>\n      <td>233.0</td>\n      <td>1470</td>\n      <td>149</td>\n      <td>22</td>\n      <td>NaN</td>\n      <td>0</td>\n      <td>233</td>\n      <td>847</td>\n      <td>...</td>\n      <td>0</td>\n      <td>0</td>\n      <td>0</td>\n      <td>0</td>\n      <td>0</td>\n      <td>2.0</td>\n      <td>1</td>\n      <td>Центральный федеральный округ</td>\n      <td>1</td>\n      <td>0.027829</td>\n    </tr>\n    <tr>\n      <th>1007</th>\n      <td>1157</td>\n      <td>0</td>\n      <td>127.0</td>\n      <td>915</td>\n      <td>115</td>\n      <td>0</td>\n      <td>NaN</td>\n      <td>0</td>\n      <td>127</td>\n      <td>379</td>\n      <td>...</td>\n      <td>0</td>\n      <td>0</td>\n      <td>0</td>\n      <td>0</td>\n      <td>0</td>\n      <td>5.0</td>\n      <td>1</td>\n      <td>Южный федеральный округ</td>\n      <td>3</td>\n      <td>0.057308</td>\n    </tr>\n    <tr>\n      <th>1008</th>\n      <td>701</td>\n      <td>9</td>\n      <td>183.0</td>\n      <td>508</td>\n      <td>1</td>\n      <td>0</td>\n      <td>NaN</td>\n      <td>9</td>\n      <td>183</td>\n      <td>431</td>\n      <td>...</td>\n      <td>0</td>\n      <td>0</td>\n      <td>0</td>\n      <td>0</td>\n      <td>0</td>\n      <td>6.0</td>\n      <td>1</td>\n      <td>Северо-Кавказский федеральный округ</td>\n      <td>3</td>\n      <td>0.059333</td>\n    </tr>\n    <tr>\n      <th>1009</th>\n      <td>686</td>\n      <td>175</td>\n      <td>194.0</td>\n      <td>317</td>\n      <td>0</td>\n      <td>0</td>\n      <td>NaN</td>\n      <td>175</td>\n      <td>186</td>\n      <td>299</td>\n      <td>...</td>\n      <td>0</td>\n      <td>0</td>\n      <td>0</td>\n      <td>0</td>\n      <td>0</td>\n      <td>2.0</td>\n      <td>1</td>\n      <td>Центральный федеральный округ</td>\n      <td>3</td>\n      <td>0.024747</td>\n    </tr>\n    <tr>\n      <th>1010</th>\n      <td>847</td>\n      <td>43</td>\n      <td>126.0</td>\n      <td>581</td>\n      <td>97</td>\n      <td>0</td>\n      <td>NaN</td>\n      <td>0</td>\n      <td>0</td>\n      <td>0</td>\n      <td>...</td>\n      <td>0</td>\n      <td>0</td>\n      <td>0</td>\n      <td>0</td>\n      <td>2</td>\n      <td>3.0</td>\n      <td>1</td>\n      <td>Приволжский федеральный округ</td>\n      <td>1</td>\n      <td>0.099271</td>\n    </tr>\n    <tr>\n      <th>1011</th>\n      <td>1380</td>\n      <td>143</td>\n      <td>219.0</td>\n      <td>1010</td>\n      <td>8</td>\n      <td>0</td>\n      <td>NaN</td>\n      <td>143</td>\n      <td>181</td>\n      <td>352</td>\n      <td>...</td>\n      <td>0</td>\n      <td>0</td>\n      <td>0</td>\n      <td>0</td>\n      <td>0</td>\n      <td>2.0</td>\n      <td>0</td>\n      <td>Центральный федеральный округ</td>\n      <td>0</td>\n      <td>0.024287</td>\n    </tr>\n  </tbody>\n</table>\n<p>25 rows × 39 columns</p>\n</div>"
     },
     "execution_count": 36,
     "metadata": {},
     "output_type": "execute_result"
    }
   ],
   "source": [
    "col_names_for_tv_viewing = [\"Телесмотрение утром\", \"Телесмотрение ночью\", \"Телесмотрение в рабочее время\", \"Телесмотрение в вечернее время\", \"Телесмотрение в прайм тайм\", \"Общее телесмотрение\"]\n",
    "\n",
    "indexes_of_rows_with_missed_values_for_morning_tv_viewing = X[col_names_for_tv_viewing[0]].isnull().where(lambda x: x).dropna().index\n",
    "\n",
    "tv_viewing_per_part_of_day_and_in_total = X.loc[indexes_of_rows_with_missed_values_for_morning_tv_viewing, col_names_for_tv_viewing[1:]]\n",
    "\n",
    "tv_viewing_in_total = tv_viewing_per_part_of_day_and_in_total[col_names_for_tv_viewing[-1]]\n",
    "tv_viewing_per_part_of_day_and_in_total.drop(col_names_for_tv_viewing[-1], axis=1, inplace=True)\n",
    "\n",
    "morning_tv_viewing_data = []\n",
    "for index, row in tv_viewing_per_part_of_day_and_in_total.iterrows():\n",
    "    morning_tv_viewing = tv_viewing_in_total[index] - sum(row)\n",
    "    morning_tv_viewing_data.append(morning_tv_viewing)\n",
    "morning_tv_viewings = pd.Series(data=morning_tv_viewing_data, index=tv_viewing_per_part_of_day_and_in_total.index)\n",
    "\n",
    "X.loc[morning_tv_viewings.index, col_names_for_tv_viewing[0]] = morning_tv_viewings\n",
    "\n",
    "X.loc[morning_tv_viewings.index, :]"
   ],
   "metadata": {
    "collapsed": false,
    "ExecuteTime": {
     "end_time": "2024-03-05T10:46:45.444568032Z",
     "start_time": "2024-03-05T10:46:45.029680830Z"
    }
   },
   "id": "3257f0980fc2cbee"
  },
  {
   "cell_type": "markdown",
   "source": [
    "##### Далее заполним пропуски в общем телесмотрении Пн-Пт. Оно вычисляется по аналогии, только на основе колонок, содержащих данные о телесмотрении Пн-Пт."
   ],
   "metadata": {
    "collapsed": false
   },
   "id": "d1a86f17452e7065"
  },
  {
   "cell_type": "code",
   "execution_count": 37,
   "outputs": [
    {
     "data": {
      "text/plain": "      Общее телесмотрение  Телесмотрение ночью  Телесмотрение утром  \\\n1000                 1935                  151                207.0   \n1001                  264                  106                  0.0   \n1002                 1265                   18                441.0   \n1003                 3156                  113                550.0   \n1004                 1575                    0                  0.0   \n1005                 1855                  440                480.0   \n1006                 1874                    0                233.0   \n1007                 1157                    0                127.0   \n1008                  701                    9                183.0   \n1009                  686                  175                194.0   \n1010                  847                   43                126.0   \n1011                 1380                  143                219.0   \n1012                   92                    0                  0.0   \n1013                   47                    9                 36.0   \n1014                  625                    0                105.0   \n1015                  105                    0                  0.0   \n1016                 2006                   49                321.0   \n1017                  119                   28                  0.0   \n1018                  384                    1                  5.0   \n1019                 1466                   92                134.0   \n1020                 1051                   88                434.0   \n1021                  881                    0                 42.0   \n1022                 1188                    0                 98.0   \n1023                 2349                  113                415.0   \n1024                  455                    0                 34.0   \n\n      Телесмотрение в рабочее время  Телесмотрение в вечернее время  \\\n1000                           1117                             221   \n1001                            158                               0   \n1002                            712                              94   \n1003                           1888                             267   \n1004                            709                             484   \n1005                            935                               0   \n1006                           1470                             149   \n1007                            915                             115   \n1008                            508                               1   \n1009                            317                               0   \n1010                            581                              97   \n1011                           1010                               8   \n1012                             53                              39   \n1013                              2                               0   \n1014                            520                               0   \n1015                            105                               0   \n1016                           1128                             346   \n1017                             91                               0   \n1018                             83                             113   \n1019                            905                             243   \n1020                            529                               0   \n1021                            794                              45   \n1022                            686                             246   \n1023                           1660                             138   \n1024                            421                               0   \n\n      Телесмотрение в прайм тайм  Общее телесмотрение Пн-Пт  \\\n1000                         239                      304.0   \n1001                           0                       40.0   \n1002                           0                        0.0   \n1003                         338                     1473.0   \n1004                         382                      806.0   \n1005                           0                      272.0   \n1006                          22                     1080.0   \n1007                           0                      506.0   \n1008                           0                      623.0   \n1009                           0                      660.0   \n1010                           0                        0.0   \n1011                           0                      676.0   \n1012                           0                        0.0   \n1013                           0                        0.0   \n1014                           0                      549.0   \n1015                           0                        0.0   \n1016                         162                     1045.0   \n1017                           0                        0.0   \n1018                         182                       42.0   \n1019                          92                      201.0   \n1020                           0                      196.0   \n1021                           0                       42.0   \n1022                         158                      201.0   \n1023                          23                     1159.0   \n1024                           0                       27.0   \n\n      Телесмотрение ночью Пн-Пт  Телесмотрение утром Пн-Пт  \\\n1000                          4                          0   \n1001                         16                          0   \n1002                          0                          0   \n1003                         60                        185   \n1004                          0                          0   \n1005                         76                         51   \n1006                          0                        233   \n1007                          0                        127   \n1008                          9                        183   \n1009                        175                        186   \n1010                          0                          0   \n1011                        143                        181   \n1012                          0                          0   \n1013                          0                          0   \n1014                          0                         99   \n1015                          0                          0   \n1016                         49                        187   \n1017                          0                          0   \n1018                          0                          5   \n1019                          0                          0   \n1020                         17                        143   \n1021                          0                         42   \n1022                          0                         98   \n1023                         91                        270   \n1024                          0                          0   \n\n      Телесмотрение в рабочее время Пн-Пт  ...  \\\n1000                                   79  ...   \n1001                                   24  ...   \n1002                                    0  ...   \n1003                                  881  ...   \n1004                                  372  ...   \n1005                                  145  ...   \n1006                                  847  ...   \n1007                                  379  ...   \n1008                                  431  ...   \n1009                                  299  ...   \n1010                                    0  ...   \n1011                                  352  ...   \n1012                                    0  ...   \n1013                                    0  ...   \n1014                                  450  ...   \n1015                                    0  ...   \n1016                                  633  ...   \n1017                                    0  ...   \n1018                                   37  ...   \n1019                                  201  ...   \n1020                                   36  ...   \n1021                                    0  ...   \n1022                                  103  ...   \n1023                                  653  ...   \n1024                                   27  ...   \n\n      Просмотр жанра спорт в праздники  Просмотр жанра музыка в рабочее время  \\\n1000                                 0                                      0   \n1001                                 0                                      0   \n1002                                 0                                      0   \n1003                                 0                                      0   \n1004                                 0                                      0   \n1005                                 0                                      0   \n1006                                 0                                      0   \n1007                                 0                                      0   \n1008                                 0                                      0   \n1009                                 0                                      0   \n1010                                 0                                      0   \n1011                                 0                                      0   \n1012                                 0                                      0   \n1013                                 0                                      0   \n1014                                 0                                      2   \n1015                                 0                                      0   \n1016                                 0                                      0   \n1017                                 0                                      0   \n1018                                 0                                      0   \n1019                                 2                                      0   \n1020                                 0                                      0   \n1021                                 0                                      2   \n1022                                 0                                      0   \n1023                                 0                                      0   \n1024                                 0                                      0   \n\n      Просмотр жанра музыка в праздники  \\\n1000                                  0   \n1001                                  0   \n1002                                  0   \n1003                                  0   \n1004                                  0   \n1005                                  0   \n1006                                  0   \n1007                                  0   \n1008                                  0   \n1009                                  0   \n1010                                  0   \n1011                                  0   \n1012                                  0   \n1013                                  0   \n1014                                  0   \n1015                                  0   \n1016                                  0   \n1017                                  0   \n1018                                  0   \n1019                                  0   \n1020                                  0   \n1021                                  0   \n1022                                  0   \n1023                                  0   \n1024                                  1   \n\n      Просмотр жанра образования в рабочее время  \\\n1000                                           0   \n1001                                           0   \n1002                                           0   \n1003                                           0   \n1004                                           0   \n1005                                           0   \n1006                                           0   \n1007                                           0   \n1008                                           0   \n1009                                           0   \n1010                                           0   \n1011                                           0   \n1012                                           0   \n1013                                           0   \n1014                                           0   \n1015                                           0   \n1016                                           0   \n1017                                           0   \n1018                                           0   \n1019                                           0   \n1020                                           0   \n1021                                           0   \n1022                                           0   \n1023                                          25   \n1024                                           0   \n\n      Просмотр жанра образование в праздники  Размер ДХ  Тип ресивера  \\\n1000                                       0        2.0             1   \n1001                                       0        3.0             0   \n1002                                       0        6.0             0   \n1003                                      22        3.0             1   \n1004                                       0        3.0             1   \n1005                                       0        4.0             0   \n1006                                       0        2.0             1   \n1007                                       0        5.0             1   \n1008                                       0        6.0             1   \n1009                                       0        2.0             1   \n1010                                       2        3.0             1   \n1011                                       0        2.0             0   \n1012                                       0        2.0             1   \n1013                                       0        2.0             0   \n1014                                       0        3.0             1   \n1015                                       0        2.0             0   \n1016                                       0        2.0             1   \n1017                                       0        1.0             1   \n1018                                       0        2.0             0   \n1019                                       0        2.0             0   \n1020                                       0        4.0             1   \n1021                                       0        3.0             0   \n1022                                       0        2.0             1   \n1023                                       0        4.0             0   \n1024                                       0        5.0             1   \n\n                                       ФО  Тип нас.пункта  Почтовый индекс  \n1000              Южный федеральный округ               3         0.057216  \n1001          Уральский федеральный округ               3         0.073887  \n1002        Приволжский федеральный округ               1         0.098254  \n1003              Южный федеральный округ               3         0.056259  \n1004        Приволжский федеральный округ               3         0.074923  \n1005        Приволжский федеральный округ               1         0.068564  \n1006        Центральный федеральный округ               1         0.027829  \n1007              Южный федеральный округ               3         0.057308  \n1008  Северо-Кавказский федеральный округ               3         0.059333  \n1009        Центральный федеральный округ               3         0.024747  \n1010        Приволжский федеральный округ               1         0.099271  \n1011        Центральный федеральный округ               0         0.024287  \n1012        Приволжский федеральный округ               3         0.069535  \n1013  Северо-Кавказский федеральный округ               3         0.059790  \n1014  Северо-Кавказский федеральный округ               3         0.057852  \n1015          Сибирский федеральный округ               0         0.102641  \n1016    Северо-Западный федеральный округ               3         0.038646  \n1017          Уральский федеральный округ               1         0.073963  \n1018        Центральный федеральный округ               2         0.040316  \n1019        Центральный федеральный округ               1         0.064255  \n1020        Центральный федеральный округ               3         0.025341  \n1021              Южный федеральный округ               0         0.064767  \n1022    Северо-Западный федеральный округ               0         0.038207  \n1023        Приволжский федеральный округ               3         0.071696  \n1024              Южный федеральный округ               3         0.056259  \n\n[25 rows x 39 columns]",
      "text/html": "<div>\n<style scoped>\n    .dataframe tbody tr th:only-of-type {\n        vertical-align: middle;\n    }\n\n    .dataframe tbody tr th {\n        vertical-align: top;\n    }\n\n    .dataframe thead th {\n        text-align: right;\n    }\n</style>\n<table border=\"1\" class=\"dataframe\">\n  <thead>\n    <tr style=\"text-align: right;\">\n      <th></th>\n      <th>Общее телесмотрение</th>\n      <th>Телесмотрение ночью</th>\n      <th>Телесмотрение утром</th>\n      <th>Телесмотрение в рабочее время</th>\n      <th>Телесмотрение в вечернее время</th>\n      <th>Телесмотрение в прайм тайм</th>\n      <th>Общее телесмотрение Пн-Пт</th>\n      <th>Телесмотрение ночью Пн-Пт</th>\n      <th>Телесмотрение утром Пн-Пт</th>\n      <th>Телесмотрение в рабочее время Пн-Пт</th>\n      <th>...</th>\n      <th>Просмотр жанра спорт в праздники</th>\n      <th>Просмотр жанра музыка в рабочее время</th>\n      <th>Просмотр жанра музыка в праздники</th>\n      <th>Просмотр жанра образования в рабочее время</th>\n      <th>Просмотр жанра образование в праздники</th>\n      <th>Размер ДХ</th>\n      <th>Тип ресивера</th>\n      <th>ФО</th>\n      <th>Тип нас.пункта</th>\n      <th>Почтовый индекс</th>\n    </tr>\n  </thead>\n  <tbody>\n    <tr>\n      <th>1000</th>\n      <td>1935</td>\n      <td>151</td>\n      <td>207.0</td>\n      <td>1117</td>\n      <td>221</td>\n      <td>239</td>\n      <td>304.0</td>\n      <td>4</td>\n      <td>0</td>\n      <td>79</td>\n      <td>...</td>\n      <td>0</td>\n      <td>0</td>\n      <td>0</td>\n      <td>0</td>\n      <td>0</td>\n      <td>2.0</td>\n      <td>1</td>\n      <td>Южный федеральный округ</td>\n      <td>3</td>\n      <td>0.057216</td>\n    </tr>\n    <tr>\n      <th>1001</th>\n      <td>264</td>\n      <td>106</td>\n      <td>0.0</td>\n      <td>158</td>\n      <td>0</td>\n      <td>0</td>\n      <td>40.0</td>\n      <td>16</td>\n      <td>0</td>\n      <td>24</td>\n      <td>...</td>\n      <td>0</td>\n      <td>0</td>\n      <td>0</td>\n      <td>0</td>\n      <td>0</td>\n      <td>3.0</td>\n      <td>0</td>\n      <td>Уральский федеральный округ</td>\n      <td>3</td>\n      <td>0.073887</td>\n    </tr>\n    <tr>\n      <th>1002</th>\n      <td>1265</td>\n      <td>18</td>\n      <td>441.0</td>\n      <td>712</td>\n      <td>94</td>\n      <td>0</td>\n      <td>0.0</td>\n      <td>0</td>\n      <td>0</td>\n      <td>0</td>\n      <td>...</td>\n      <td>0</td>\n      <td>0</td>\n      <td>0</td>\n      <td>0</td>\n      <td>0</td>\n      <td>6.0</td>\n      <td>0</td>\n      <td>Приволжский федеральный округ</td>\n      <td>1</td>\n      <td>0.098254</td>\n    </tr>\n    <tr>\n      <th>1003</th>\n      <td>3156</td>\n      <td>113</td>\n      <td>550.0</td>\n      <td>1888</td>\n      <td>267</td>\n      <td>338</td>\n      <td>1473.0</td>\n      <td>60</td>\n      <td>185</td>\n      <td>881</td>\n      <td>...</td>\n      <td>0</td>\n      <td>0</td>\n      <td>0</td>\n      <td>0</td>\n      <td>22</td>\n      <td>3.0</td>\n      <td>1</td>\n      <td>Южный федеральный округ</td>\n      <td>3</td>\n      <td>0.056259</td>\n    </tr>\n    <tr>\n      <th>1004</th>\n      <td>1575</td>\n      <td>0</td>\n      <td>0.0</td>\n      <td>709</td>\n      <td>484</td>\n      <td>382</td>\n      <td>806.0</td>\n      <td>0</td>\n      <td>0</td>\n      <td>372</td>\n      <td>...</td>\n      <td>0</td>\n      <td>0</td>\n      <td>0</td>\n      <td>0</td>\n      <td>0</td>\n      <td>3.0</td>\n      <td>1</td>\n      <td>Приволжский федеральный округ</td>\n      <td>3</td>\n      <td>0.074923</td>\n    </tr>\n    <tr>\n      <th>1005</th>\n      <td>1855</td>\n      <td>440</td>\n      <td>480.0</td>\n      <td>935</td>\n      <td>0</td>\n      <td>0</td>\n      <td>272.0</td>\n      <td>76</td>\n      <td>51</td>\n      <td>145</td>\n      <td>...</td>\n      <td>0</td>\n      <td>0</td>\n      <td>0</td>\n      <td>0</td>\n      <td>0</td>\n      <td>4.0</td>\n      <td>0</td>\n      <td>Приволжский федеральный округ</td>\n      <td>1</td>\n      <td>0.068564</td>\n    </tr>\n    <tr>\n      <th>1006</th>\n      <td>1874</td>\n      <td>0</td>\n      <td>233.0</td>\n      <td>1470</td>\n      <td>149</td>\n      <td>22</td>\n      <td>1080.0</td>\n      <td>0</td>\n      <td>233</td>\n      <td>847</td>\n      <td>...</td>\n      <td>0</td>\n      <td>0</td>\n      <td>0</td>\n      <td>0</td>\n      <td>0</td>\n      <td>2.0</td>\n      <td>1</td>\n      <td>Центральный федеральный округ</td>\n      <td>1</td>\n      <td>0.027829</td>\n    </tr>\n    <tr>\n      <th>1007</th>\n      <td>1157</td>\n      <td>0</td>\n      <td>127.0</td>\n      <td>915</td>\n      <td>115</td>\n      <td>0</td>\n      <td>506.0</td>\n      <td>0</td>\n      <td>127</td>\n      <td>379</td>\n      <td>...</td>\n      <td>0</td>\n      <td>0</td>\n      <td>0</td>\n      <td>0</td>\n      <td>0</td>\n      <td>5.0</td>\n      <td>1</td>\n      <td>Южный федеральный округ</td>\n      <td>3</td>\n      <td>0.057308</td>\n    </tr>\n    <tr>\n      <th>1008</th>\n      <td>701</td>\n      <td>9</td>\n      <td>183.0</td>\n      <td>508</td>\n      <td>1</td>\n      <td>0</td>\n      <td>623.0</td>\n      <td>9</td>\n      <td>183</td>\n      <td>431</td>\n      <td>...</td>\n      <td>0</td>\n      <td>0</td>\n      <td>0</td>\n      <td>0</td>\n      <td>0</td>\n      <td>6.0</td>\n      <td>1</td>\n      <td>Северо-Кавказский федеральный округ</td>\n      <td>3</td>\n      <td>0.059333</td>\n    </tr>\n    <tr>\n      <th>1009</th>\n      <td>686</td>\n      <td>175</td>\n      <td>194.0</td>\n      <td>317</td>\n      <td>0</td>\n      <td>0</td>\n      <td>660.0</td>\n      <td>175</td>\n      <td>186</td>\n      <td>299</td>\n      <td>...</td>\n      <td>0</td>\n      <td>0</td>\n      <td>0</td>\n      <td>0</td>\n      <td>0</td>\n      <td>2.0</td>\n      <td>1</td>\n      <td>Центральный федеральный округ</td>\n      <td>3</td>\n      <td>0.024747</td>\n    </tr>\n    <tr>\n      <th>1010</th>\n      <td>847</td>\n      <td>43</td>\n      <td>126.0</td>\n      <td>581</td>\n      <td>97</td>\n      <td>0</td>\n      <td>0.0</td>\n      <td>0</td>\n      <td>0</td>\n      <td>0</td>\n      <td>...</td>\n      <td>0</td>\n      <td>0</td>\n      <td>0</td>\n      <td>0</td>\n      <td>2</td>\n      <td>3.0</td>\n      <td>1</td>\n      <td>Приволжский федеральный округ</td>\n      <td>1</td>\n      <td>0.099271</td>\n    </tr>\n    <tr>\n      <th>1011</th>\n      <td>1380</td>\n      <td>143</td>\n      <td>219.0</td>\n      <td>1010</td>\n      <td>8</td>\n      <td>0</td>\n      <td>676.0</td>\n      <td>143</td>\n      <td>181</td>\n      <td>352</td>\n      <td>...</td>\n      <td>0</td>\n      <td>0</td>\n      <td>0</td>\n      <td>0</td>\n      <td>0</td>\n      <td>2.0</td>\n      <td>0</td>\n      <td>Центральный федеральный округ</td>\n      <td>0</td>\n      <td>0.024287</td>\n    </tr>\n    <tr>\n      <th>1012</th>\n      <td>92</td>\n      <td>0</td>\n      <td>0.0</td>\n      <td>53</td>\n      <td>39</td>\n      <td>0</td>\n      <td>0.0</td>\n      <td>0</td>\n      <td>0</td>\n      <td>0</td>\n      <td>...</td>\n      <td>0</td>\n      <td>0</td>\n      <td>0</td>\n      <td>0</td>\n      <td>0</td>\n      <td>2.0</td>\n      <td>1</td>\n      <td>Приволжский федеральный округ</td>\n      <td>3</td>\n      <td>0.069535</td>\n    </tr>\n    <tr>\n      <th>1013</th>\n      <td>47</td>\n      <td>9</td>\n      <td>36.0</td>\n      <td>2</td>\n      <td>0</td>\n      <td>0</td>\n      <td>0.0</td>\n      <td>0</td>\n      <td>0</td>\n      <td>0</td>\n      <td>...</td>\n      <td>0</td>\n      <td>0</td>\n      <td>0</td>\n      <td>0</td>\n      <td>0</td>\n      <td>2.0</td>\n      <td>0</td>\n      <td>Северо-Кавказский федеральный округ</td>\n      <td>3</td>\n      <td>0.059790</td>\n    </tr>\n    <tr>\n      <th>1014</th>\n      <td>625</td>\n      <td>0</td>\n      <td>105.0</td>\n      <td>520</td>\n      <td>0</td>\n      <td>0</td>\n      <td>549.0</td>\n      <td>0</td>\n      <td>99</td>\n      <td>450</td>\n      <td>...</td>\n      <td>0</td>\n      <td>2</td>\n      <td>0</td>\n      <td>0</td>\n      <td>0</td>\n      <td>3.0</td>\n      <td>1</td>\n      <td>Северо-Кавказский федеральный округ</td>\n      <td>3</td>\n      <td>0.057852</td>\n    </tr>\n    <tr>\n      <th>1015</th>\n      <td>105</td>\n      <td>0</td>\n      <td>0.0</td>\n      <td>105</td>\n      <td>0</td>\n      <td>0</td>\n      <td>0.0</td>\n      <td>0</td>\n      <td>0</td>\n      <td>0</td>\n      <td>...</td>\n      <td>0</td>\n      <td>0</td>\n      <td>0</td>\n      <td>0</td>\n      <td>0</td>\n      <td>2.0</td>\n      <td>0</td>\n      <td>Сибирский федеральный округ</td>\n      <td>0</td>\n      <td>0.102641</td>\n    </tr>\n    <tr>\n      <th>1016</th>\n      <td>2006</td>\n      <td>49</td>\n      <td>321.0</td>\n      <td>1128</td>\n      <td>346</td>\n      <td>162</td>\n      <td>1045.0</td>\n      <td>49</td>\n      <td>187</td>\n      <td>633</td>\n      <td>...</td>\n      <td>0</td>\n      <td>0</td>\n      <td>0</td>\n      <td>0</td>\n      <td>0</td>\n      <td>2.0</td>\n      <td>1</td>\n      <td>Северо-Западный федеральный округ</td>\n      <td>3</td>\n      <td>0.038646</td>\n    </tr>\n    <tr>\n      <th>1017</th>\n      <td>119</td>\n      <td>28</td>\n      <td>0.0</td>\n      <td>91</td>\n      <td>0</td>\n      <td>0</td>\n      <td>0.0</td>\n      <td>0</td>\n      <td>0</td>\n      <td>0</td>\n      <td>...</td>\n      <td>0</td>\n      <td>0</td>\n      <td>0</td>\n      <td>0</td>\n      <td>0</td>\n      <td>1.0</td>\n      <td>1</td>\n      <td>Уральский федеральный округ</td>\n      <td>1</td>\n      <td>0.073963</td>\n    </tr>\n    <tr>\n      <th>1018</th>\n      <td>384</td>\n      <td>1</td>\n      <td>5.0</td>\n      <td>83</td>\n      <td>113</td>\n      <td>182</td>\n      <td>42.0</td>\n      <td>0</td>\n      <td>5</td>\n      <td>37</td>\n      <td>...</td>\n      <td>0</td>\n      <td>0</td>\n      <td>0</td>\n      <td>0</td>\n      <td>0</td>\n      <td>2.0</td>\n      <td>0</td>\n      <td>Центральный федеральный округ</td>\n      <td>2</td>\n      <td>0.040316</td>\n    </tr>\n    <tr>\n      <th>1019</th>\n      <td>1466</td>\n      <td>92</td>\n      <td>134.0</td>\n      <td>905</td>\n      <td>243</td>\n      <td>92</td>\n      <td>201.0</td>\n      <td>0</td>\n      <td>0</td>\n      <td>201</td>\n      <td>...</td>\n      <td>2</td>\n      <td>0</td>\n      <td>0</td>\n      <td>0</td>\n      <td>0</td>\n      <td>2.0</td>\n      <td>0</td>\n      <td>Центральный федеральный округ</td>\n      <td>1</td>\n      <td>0.064255</td>\n    </tr>\n    <tr>\n      <th>1020</th>\n      <td>1051</td>\n      <td>88</td>\n      <td>434.0</td>\n      <td>529</td>\n      <td>0</td>\n      <td>0</td>\n      <td>196.0</td>\n      <td>17</td>\n      <td>143</td>\n      <td>36</td>\n      <td>...</td>\n      <td>0</td>\n      <td>0</td>\n      <td>0</td>\n      <td>0</td>\n      <td>0</td>\n      <td>4.0</td>\n      <td>1</td>\n      <td>Центральный федеральный округ</td>\n      <td>3</td>\n      <td>0.025341</td>\n    </tr>\n    <tr>\n      <th>1021</th>\n      <td>881</td>\n      <td>0</td>\n      <td>42.0</td>\n      <td>794</td>\n      <td>45</td>\n      <td>0</td>\n      <td>42.0</td>\n      <td>0</td>\n      <td>42</td>\n      <td>0</td>\n      <td>...</td>\n      <td>0</td>\n      <td>2</td>\n      <td>0</td>\n      <td>0</td>\n      <td>0</td>\n      <td>3.0</td>\n      <td>0</td>\n      <td>Южный федеральный округ</td>\n      <td>0</td>\n      <td>0.064767</td>\n    </tr>\n    <tr>\n      <th>1022</th>\n      <td>1188</td>\n      <td>0</td>\n      <td>98.0</td>\n      <td>686</td>\n      <td>246</td>\n      <td>158</td>\n      <td>201.0</td>\n      <td>0</td>\n      <td>98</td>\n      <td>103</td>\n      <td>...</td>\n      <td>0</td>\n      <td>0</td>\n      <td>0</td>\n      <td>0</td>\n      <td>0</td>\n      <td>2.0</td>\n      <td>1</td>\n      <td>Северо-Западный федеральный округ</td>\n      <td>0</td>\n      <td>0.038207</td>\n    </tr>\n    <tr>\n      <th>1023</th>\n      <td>2349</td>\n      <td>113</td>\n      <td>415.0</td>\n      <td>1660</td>\n      <td>138</td>\n      <td>23</td>\n      <td>1159.0</td>\n      <td>91</td>\n      <td>270</td>\n      <td>653</td>\n      <td>...</td>\n      <td>0</td>\n      <td>0</td>\n      <td>0</td>\n      <td>25</td>\n      <td>0</td>\n      <td>4.0</td>\n      <td>0</td>\n      <td>Приволжский федеральный округ</td>\n      <td>3</td>\n      <td>0.071696</td>\n    </tr>\n    <tr>\n      <th>1024</th>\n      <td>455</td>\n      <td>0</td>\n      <td>34.0</td>\n      <td>421</td>\n      <td>0</td>\n      <td>0</td>\n      <td>27.0</td>\n      <td>0</td>\n      <td>0</td>\n      <td>27</td>\n      <td>...</td>\n      <td>0</td>\n      <td>0</td>\n      <td>1</td>\n      <td>0</td>\n      <td>0</td>\n      <td>5.0</td>\n      <td>1</td>\n      <td>Южный федеральный округ</td>\n      <td>3</td>\n      <td>0.056259</td>\n    </tr>\n  </tbody>\n</table>\n<p>25 rows × 39 columns</p>\n</div>"
     },
     "execution_count": 37,
     "metadata": {},
     "output_type": "execute_result"
    }
   ],
   "source": [
    "col_names_for_tv_viewing_in_work_days = [\"Общее телесмотрение Пн-Пт\", \"Телесмотрение утром Пн-Пт\", \"Телесмотрение ночью Пн-Пт\", \"Телесмотрение в рабочее время Пн-Пт\", \"Телесмотрение в вечернее время Пн-Пт\", \"Телесмотрение в прайм тайм Пн-Пт\"]\n",
    "\n",
    "indexes_of_rows_with_missed_values_for_tv_viewing_in_total = X[col_names_for_tv_viewing_in_work_days[0]].isnull().where(lambda x: x).dropna().index\n",
    "\n",
    "tv_viewing_per_part_of_day = X.loc[indexes_of_rows_with_missed_values_for_tv_viewing_in_total, col_names_for_tv_viewing_in_work_days[1:]]\n",
    "\n",
    "tv_viewing_in_total_data = []\n",
    "for index, row in tv_viewing_per_part_of_day.iterrows():\n",
    "    tv_viewing_in_total = sum(row)\n",
    "    tv_viewing_in_total_data.append(tv_viewing_in_total)\n",
    "tv_viewings_in_total = pd.Series(data=tv_viewing_in_total_data, index=tv_viewing_per_part_of_day.index)\n",
    "\n",
    "X.loc[tv_viewings_in_total.index, col_names_for_tv_viewing_in_work_days[0]] = tv_viewings_in_total\n",
    "\n",
    "X.loc[tv_viewings_in_total.index, :]"
   ],
   "metadata": {
    "collapsed": false,
    "ExecuteTime": {
     "end_time": "2024-03-05T10:46:45.556835431Z",
     "start_time": "2024-03-05T10:46:45.198618210Z"
    }
   },
   "id": "4067ac237d3aa4b3"
  },
  {
   "cell_type": "markdown",
   "source": [
    "##### Далее заполнение пропусков уже не такое очевидное. Поэтому будем ориентироваться на ближайших соседей с отобранными вручную признаками."
   ],
   "metadata": {
    "collapsed": false
   },
   "id": "e8e7282e036c4f1a"
  },
  {
   "cell_type": "code",
   "execution_count": 38,
   "outputs": [],
   "source": [
    "# n_neighbors = sqrt(number_of_samples)/2\n",
    "imputer = impute.KNNImputer(n_neighbors=28)"
   ],
   "metadata": {
    "collapsed": false,
    "ExecuteTime": {
     "end_time": "2024-03-05T10:46:45.619164660Z",
     "start_time": "2024-03-05T10:46:45.500837514Z"
    }
   },
   "id": "e5f8d0fac60f6754"
  },
  {
   "cell_type": "markdown",
   "source": [],
   "metadata": {
    "collapsed": false
   },
   "id": "30c1879a61472786"
  },
  {
   "cell_type": "code",
   "execution_count": 39,
   "outputs": [
    {
     "data": {
      "text/plain": "      Общее телесмотрение  Телесмотрение ночью  Телесмотрение утром  \\\n2004                 2539                   27                515.0   \n2005                 3737                  833                621.0   \n2006                  397                   11                181.0   \n2007                 1283                    0                120.0   \n2008                  603                    0                  0.0   \n2009                 1792                  134                251.0   \n2010                  169                    0                  0.0   \n2011                 2173                  658                582.0   \n2012                 2682                  380                 83.0   \n2013                 1436                    4                 16.0   \n2014                  943                    0                 62.0   \n2015                 1558                  343                185.0   \n2016                  189                    0                  0.0   \n2017                   60                    1                  0.0   \n2018                  822                    0                  0.0   \n2019                  507                  177                214.0   \n2020                 2011                  785                221.0   \n2021                  727                    0                  9.0   \n2022                  983                    0                  0.0   \n2023                  850                    0                140.0   \n2024                 3612                  939                584.0   \n2025                  548                  147                379.0   \n2026                  377                    0                 62.0   \n2027                 1072                  295                199.0   \n2028                  871                    1                 70.0   \n\n      Телесмотрение в рабочее время  Телесмотрение в вечернее время  \\\n2004                           1456                             445   \n2005                           1926                             339   \n2006                             40                             113   \n2007                           1007                             156   \n2008                            288                             162   \n2009                           1306                             101   \n2010                             46                             101   \n2011                            889                              44   \n2012                           1646                             388   \n2013                           1191                             120   \n2014                            531                             229   \n2015                            998                              32   \n2016                             51                             120   \n2017                             59                               0   \n2018                            602                             121   \n2019                            116                               0   \n2020                            876                              32   \n2021                            162                             321   \n2022                            792                             191   \n2023                            626                              84   \n2024                           1964                              61   \n2025                             22                               0   \n2026                            315                               0   \n2027                            578                               0   \n2028                            244                             375   \n\n      Телесмотрение в прайм тайм  Общее телесмотрение Пн-Пт  \\\n2004                          96                     1006.0   \n2005                          18                     1417.0   \n2006                          52                      204.0   \n2007                           0                      580.0   \n2008                         153                      177.0   \n2009                           0                      868.0   \n2010                          22                      123.0   \n2011                           0                     1380.0   \n2012                         185                      732.0   \n2013                         105                      382.0   \n2014                         121                        5.0   \n2015                           0                      667.0   \n2016                          18                      189.0   \n2017                           0                       59.0   \n2018                          99                      188.0   \n2019                           0                        0.0   \n2020                          97                      620.0   \n2021                         235                      408.0   \n2022                           0                      415.0   \n2023                           0                      594.0   \n2024                          64                     1258.0   \n2025                           0                      548.0   \n2026                           0                      359.0   \n2027                           0                        0.0   \n2028                         181                      321.0   \n\n      Телесмотрение ночью Пн-Пт  Телесмотрение утром Пн-Пт  \\\n2004                          0                        275   \n2005                        543                        240   \n2006                          9                        181   \n2007                          0                          2   \n2008                          0                          0   \n2009                         18                         92   \n2010                          0                          0   \n2011                        460                        278   \n2012                        191                         35   \n2013                          4                          1   \n2014                          0                          5   \n2015                        261                        127   \n2016                          0                          0   \n2017                          0                          0   \n2018                          0                          0   \n2019                          0                          0   \n2020                        344                        108   \n2021                          0                          9   \n2022                          0                          0   \n2023                          0                         98   \n2024                        240                        184   \n2025                        147                        379   \n2026                          0                         58   \n2027                          0                          0   \n2028                          0                          0   \n\n      Телесмотрение в рабочее время Пн-Пт  ...  \\\n2004                                  498  ...   \n2005                                  500  ...   \n2006                                   14  ...   \n2007                                  490  ...   \n2008                                  111  ...   \n2009                                  746  ...   \n2010                                    0  ...   \n2011                                  598  ...   \n2012                                  323  ...   \n2013                                  377  ...   \n2014                                    0  ...   \n2015                                  279  ...   \n2016                                   51  ...   \n2017                                   59  ...   \n2018                                  188  ...   \n2019                                    0  ...   \n2020                                   72  ...   \n2021                                   66  ...   \n2022                                  383  ...   \n2023                                  496  ...   \n2024                                  773  ...   \n2025                                   22  ...   \n2026                                  301  ...   \n2027                                    0  ...   \n2028                                  185  ...   \n\n      Просмотр жанра спорт в праздники  Просмотр жанра музыка в рабочее время  \\\n2004                                 0                                      0   \n2005                                 0                                      0   \n2006                                 0                                      0   \n2007                                 0                                      0   \n2008                                 0                                      0   \n2009                                 0                                      0   \n2010                                 0                                      0   \n2011                                 0                                      0   \n2012                                 1                                      0   \n2013                                 1                                      0   \n2014                                 0                                      0   \n2015                                 0                                      0   \n2016                                 0                                      0   \n2017                                 0                                      0   \n2018                                 0                                      0   \n2019                                 0                                      0   \n2020                                 1                                      0   \n2021                                 0                                      0   \n2022                                 0                                      0   \n2023                                 0                                      2   \n2024                                 8                                      0   \n2025                                 0                                      0   \n2026                                 0                                      0   \n2027                                 0                                      0   \n2028                                 1                                      0   \n\n      Просмотр жанра музыка в праздники  \\\n2004                                  2   \n2005                                  0   \n2006                                  0   \n2007                                  0   \n2008                                  0   \n2009                                  0   \n2010                                  0   \n2011                                 16   \n2012                                  0   \n2013                                  0   \n2014                                  0   \n2015                                  0   \n2016                                  0   \n2017                                  0   \n2018                                  0   \n2019                                  6   \n2020                                  0   \n2021                                  0   \n2022                                  0   \n2023                                  0   \n2024                                  0   \n2025                                  0   \n2026                                  0   \n2027                                  0   \n2028                                  0   \n\n      Просмотр жанра образования в рабочее время  \\\n2004                                           0   \n2005                                         109   \n2006                                           0   \n2007                                           0   \n2008                                           0   \n2009                                          16   \n2010                                           0   \n2011                                           2   \n2012                                           0   \n2013                                           0   \n2014                                           0   \n2015                                           0   \n2016                                           0   \n2017                                           0   \n2018                                           0   \n2019                                           0   \n2020                                          48   \n2021                                           0   \n2022                                           0   \n2023                                           0   \n2024                                           1   \n2025                                           0   \n2026                                           0   \n2027                                           0   \n2028                                           0   \n\n      Просмотр жанра образование в праздники  Размер ДХ  Тип ресивера  \\\n2004                                       0        3.0             0   \n2005                                      49        2.0             0   \n2006                                       0        4.0             1   \n2007                                       0        3.0             1   \n2008                                       0        3.0             1   \n2009                                       0        4.0             1   \n2010                                       0        2.0             0   \n2011                                       0        3.0             1   \n2012                                       0        4.0             1   \n2013                                       0        4.0             1   \n2014                                       0        3.0             1   \n2015                                       0        2.0             0   \n2016                                       0        3.0             1   \n2017                                       1        3.0             1   \n2018                                       0        2.0             0   \n2019                                       0        3.0             1   \n2020                                     119        2.0             1   \n2021                                       0        3.0             1   \n2022                                       0        3.0             1   \n2023                                       0        3.0             0   \n2024                                       0        2.0             1   \n2025                                       0        3.0             1   \n2026                                       0        3.0             1   \n2027                                      71        3.0             1   \n2028                                       0        3.0             1   \n\n                                       ФО  Тип нас.пункта  Почтовый индекс  \n2004        Центральный федеральный округ               2         0.022895  \n2005        Центральный федеральный округ               3         0.064648  \n2006          Сибирский федеральный округ               1         0.106638  \n2007        Приволжский федеральный округ               3         0.073178  \n2008  Северо-Кавказский федеральный округ               3         0.057855  \n2009        Центральный федеральный округ               0         0.063143  \n2010        Приволжский федеральный округ               3         0.066459  \n2011        Приволжский федеральный округ               3         0.073310  \n2012  Северо-Кавказский федеральный округ               3         0.057855  \n2013        Приволжский федеральный округ               3         0.073191  \n2014        Центральный федеральный округ               1         0.050058  \n2015        Центральный федеральный округ               3         0.034729  \n2016    Северо-Западный федеральный округ               1         0.038627  \n2017        Центральный федеральный округ               3         0.064169  \n2018  Северо-Кавказский федеральный округ               3         0.057930  \n2019          Уральский федеральный округ               3         0.073942  \n2020          Сибирский федеральный округ               3         0.105626  \n2021        Центральный федеральный округ               3         0.023041  \n2022  Северо-Кавказский федеральный округ               3         0.057852  \n2023        Центральный федеральный округ               1         0.025182  \n2024          Сибирский федеральный округ               3         0.107734  \n2025          Уральский федеральный округ               3         0.074054  \n2026        Центральный федеральный округ               1         0.034985  \n2027        Приволжский федеральный округ               1         0.069532  \n2028        Центральный федеральный округ               3         0.064423  \n\n[25 rows x 39 columns]",
      "text/html": "<div>\n<style scoped>\n    .dataframe tbody tr th:only-of-type {\n        vertical-align: middle;\n    }\n\n    .dataframe tbody tr th {\n        vertical-align: top;\n    }\n\n    .dataframe thead th {\n        text-align: right;\n    }\n</style>\n<table border=\"1\" class=\"dataframe\">\n  <thead>\n    <tr style=\"text-align: right;\">\n      <th></th>\n      <th>Общее телесмотрение</th>\n      <th>Телесмотрение ночью</th>\n      <th>Телесмотрение утром</th>\n      <th>Телесмотрение в рабочее время</th>\n      <th>Телесмотрение в вечернее время</th>\n      <th>Телесмотрение в прайм тайм</th>\n      <th>Общее телесмотрение Пн-Пт</th>\n      <th>Телесмотрение ночью Пн-Пт</th>\n      <th>Телесмотрение утром Пн-Пт</th>\n      <th>Телесмотрение в рабочее время Пн-Пт</th>\n      <th>...</th>\n      <th>Просмотр жанра спорт в праздники</th>\n      <th>Просмотр жанра музыка в рабочее время</th>\n      <th>Просмотр жанра музыка в праздники</th>\n      <th>Просмотр жанра образования в рабочее время</th>\n      <th>Просмотр жанра образование в праздники</th>\n      <th>Размер ДХ</th>\n      <th>Тип ресивера</th>\n      <th>ФО</th>\n      <th>Тип нас.пункта</th>\n      <th>Почтовый индекс</th>\n    </tr>\n  </thead>\n  <tbody>\n    <tr>\n      <th>2004</th>\n      <td>2539</td>\n      <td>27</td>\n      <td>515.0</td>\n      <td>1456</td>\n      <td>445</td>\n      <td>96</td>\n      <td>1006.0</td>\n      <td>0</td>\n      <td>275</td>\n      <td>498</td>\n      <td>...</td>\n      <td>0</td>\n      <td>0</td>\n      <td>2</td>\n      <td>0</td>\n      <td>0</td>\n      <td>3.0</td>\n      <td>0</td>\n      <td>Центральный федеральный округ</td>\n      <td>2</td>\n      <td>0.022895</td>\n    </tr>\n    <tr>\n      <th>2005</th>\n      <td>3737</td>\n      <td>833</td>\n      <td>621.0</td>\n      <td>1926</td>\n      <td>339</td>\n      <td>18</td>\n      <td>1417.0</td>\n      <td>543</td>\n      <td>240</td>\n      <td>500</td>\n      <td>...</td>\n      <td>0</td>\n      <td>0</td>\n      <td>0</td>\n      <td>109</td>\n      <td>49</td>\n      <td>2.0</td>\n      <td>0</td>\n      <td>Центральный федеральный округ</td>\n      <td>3</td>\n      <td>0.064648</td>\n    </tr>\n    <tr>\n      <th>2006</th>\n      <td>397</td>\n      <td>11</td>\n      <td>181.0</td>\n      <td>40</td>\n      <td>113</td>\n      <td>52</td>\n      <td>204.0</td>\n      <td>9</td>\n      <td>181</td>\n      <td>14</td>\n      <td>...</td>\n      <td>0</td>\n      <td>0</td>\n      <td>0</td>\n      <td>0</td>\n      <td>0</td>\n      <td>4.0</td>\n      <td>1</td>\n      <td>Сибирский федеральный округ</td>\n      <td>1</td>\n      <td>0.106638</td>\n    </tr>\n    <tr>\n      <th>2007</th>\n      <td>1283</td>\n      <td>0</td>\n      <td>120.0</td>\n      <td>1007</td>\n      <td>156</td>\n      <td>0</td>\n      <td>580.0</td>\n      <td>0</td>\n      <td>2</td>\n      <td>490</td>\n      <td>...</td>\n      <td>0</td>\n      <td>0</td>\n      <td>0</td>\n      <td>0</td>\n      <td>0</td>\n      <td>3.0</td>\n      <td>1</td>\n      <td>Приволжский федеральный округ</td>\n      <td>3</td>\n      <td>0.073178</td>\n    </tr>\n    <tr>\n      <th>2008</th>\n      <td>603</td>\n      <td>0</td>\n      <td>0.0</td>\n      <td>288</td>\n      <td>162</td>\n      <td>153</td>\n      <td>177.0</td>\n      <td>0</td>\n      <td>0</td>\n      <td>111</td>\n      <td>...</td>\n      <td>0</td>\n      <td>0</td>\n      <td>0</td>\n      <td>0</td>\n      <td>0</td>\n      <td>3.0</td>\n      <td>1</td>\n      <td>Северо-Кавказский федеральный округ</td>\n      <td>3</td>\n      <td>0.057855</td>\n    </tr>\n    <tr>\n      <th>2009</th>\n      <td>1792</td>\n      <td>134</td>\n      <td>251.0</td>\n      <td>1306</td>\n      <td>101</td>\n      <td>0</td>\n      <td>868.0</td>\n      <td>18</td>\n      <td>92</td>\n      <td>746</td>\n      <td>...</td>\n      <td>0</td>\n      <td>0</td>\n      <td>0</td>\n      <td>16</td>\n      <td>0</td>\n      <td>4.0</td>\n      <td>1</td>\n      <td>Центральный федеральный округ</td>\n      <td>0</td>\n      <td>0.063143</td>\n    </tr>\n    <tr>\n      <th>2010</th>\n      <td>169</td>\n      <td>0</td>\n      <td>0.0</td>\n      <td>46</td>\n      <td>101</td>\n      <td>22</td>\n      <td>123.0</td>\n      <td>0</td>\n      <td>0</td>\n      <td>0</td>\n      <td>...</td>\n      <td>0</td>\n      <td>0</td>\n      <td>0</td>\n      <td>0</td>\n      <td>0</td>\n      <td>2.0</td>\n      <td>0</td>\n      <td>Приволжский федеральный округ</td>\n      <td>3</td>\n      <td>0.066459</td>\n    </tr>\n    <tr>\n      <th>2011</th>\n      <td>2173</td>\n      <td>658</td>\n      <td>582.0</td>\n      <td>889</td>\n      <td>44</td>\n      <td>0</td>\n      <td>1380.0</td>\n      <td>460</td>\n      <td>278</td>\n      <td>598</td>\n      <td>...</td>\n      <td>0</td>\n      <td>0</td>\n      <td>16</td>\n      <td>2</td>\n      <td>0</td>\n      <td>3.0</td>\n      <td>1</td>\n      <td>Приволжский федеральный округ</td>\n      <td>3</td>\n      <td>0.073310</td>\n    </tr>\n    <tr>\n      <th>2012</th>\n      <td>2682</td>\n      <td>380</td>\n      <td>83.0</td>\n      <td>1646</td>\n      <td>388</td>\n      <td>185</td>\n      <td>732.0</td>\n      <td>191</td>\n      <td>35</td>\n      <td>323</td>\n      <td>...</td>\n      <td>1</td>\n      <td>0</td>\n      <td>0</td>\n      <td>0</td>\n      <td>0</td>\n      <td>4.0</td>\n      <td>1</td>\n      <td>Северо-Кавказский федеральный округ</td>\n      <td>3</td>\n      <td>0.057855</td>\n    </tr>\n    <tr>\n      <th>2013</th>\n      <td>1436</td>\n      <td>4</td>\n      <td>16.0</td>\n      <td>1191</td>\n      <td>120</td>\n      <td>105</td>\n      <td>382.0</td>\n      <td>4</td>\n      <td>1</td>\n      <td>377</td>\n      <td>...</td>\n      <td>1</td>\n      <td>0</td>\n      <td>0</td>\n      <td>0</td>\n      <td>0</td>\n      <td>4.0</td>\n      <td>1</td>\n      <td>Приволжский федеральный округ</td>\n      <td>3</td>\n      <td>0.073191</td>\n    </tr>\n    <tr>\n      <th>2014</th>\n      <td>943</td>\n      <td>0</td>\n      <td>62.0</td>\n      <td>531</td>\n      <td>229</td>\n      <td>121</td>\n      <td>5.0</td>\n      <td>0</td>\n      <td>5</td>\n      <td>0</td>\n      <td>...</td>\n      <td>0</td>\n      <td>0</td>\n      <td>0</td>\n      <td>0</td>\n      <td>0</td>\n      <td>3.0</td>\n      <td>1</td>\n      <td>Центральный федеральный округ</td>\n      <td>1</td>\n      <td>0.050058</td>\n    </tr>\n    <tr>\n      <th>2015</th>\n      <td>1558</td>\n      <td>343</td>\n      <td>185.0</td>\n      <td>998</td>\n      <td>32</td>\n      <td>0</td>\n      <td>667.0</td>\n      <td>261</td>\n      <td>127</td>\n      <td>279</td>\n      <td>...</td>\n      <td>0</td>\n      <td>0</td>\n      <td>0</td>\n      <td>0</td>\n      <td>0</td>\n      <td>2.0</td>\n      <td>0</td>\n      <td>Центральный федеральный округ</td>\n      <td>3</td>\n      <td>0.034729</td>\n    </tr>\n    <tr>\n      <th>2016</th>\n      <td>189</td>\n      <td>0</td>\n      <td>0.0</td>\n      <td>51</td>\n      <td>120</td>\n      <td>18</td>\n      <td>189.0</td>\n      <td>0</td>\n      <td>0</td>\n      <td>51</td>\n      <td>...</td>\n      <td>0</td>\n      <td>0</td>\n      <td>0</td>\n      <td>0</td>\n      <td>0</td>\n      <td>3.0</td>\n      <td>1</td>\n      <td>Северо-Западный федеральный округ</td>\n      <td>1</td>\n      <td>0.038627</td>\n    </tr>\n    <tr>\n      <th>2017</th>\n      <td>60</td>\n      <td>1</td>\n      <td>0.0</td>\n      <td>59</td>\n      <td>0</td>\n      <td>0</td>\n      <td>59.0</td>\n      <td>0</td>\n      <td>0</td>\n      <td>59</td>\n      <td>...</td>\n      <td>0</td>\n      <td>0</td>\n      <td>0</td>\n      <td>0</td>\n      <td>1</td>\n      <td>3.0</td>\n      <td>1</td>\n      <td>Центральный федеральный округ</td>\n      <td>3</td>\n      <td>0.064169</td>\n    </tr>\n    <tr>\n      <th>2018</th>\n      <td>822</td>\n      <td>0</td>\n      <td>0.0</td>\n      <td>602</td>\n      <td>121</td>\n      <td>99</td>\n      <td>188.0</td>\n      <td>0</td>\n      <td>0</td>\n      <td>188</td>\n      <td>...</td>\n      <td>0</td>\n      <td>0</td>\n      <td>0</td>\n      <td>0</td>\n      <td>0</td>\n      <td>2.0</td>\n      <td>0</td>\n      <td>Северо-Кавказский федеральный округ</td>\n      <td>3</td>\n      <td>0.057930</td>\n    </tr>\n    <tr>\n      <th>2019</th>\n      <td>507</td>\n      <td>177</td>\n      <td>214.0</td>\n      <td>116</td>\n      <td>0</td>\n      <td>0</td>\n      <td>0.0</td>\n      <td>0</td>\n      <td>0</td>\n      <td>0</td>\n      <td>...</td>\n      <td>0</td>\n      <td>0</td>\n      <td>6</td>\n      <td>0</td>\n      <td>0</td>\n      <td>3.0</td>\n      <td>1</td>\n      <td>Уральский федеральный округ</td>\n      <td>3</td>\n      <td>0.073942</td>\n    </tr>\n    <tr>\n      <th>2020</th>\n      <td>2011</td>\n      <td>785</td>\n      <td>221.0</td>\n      <td>876</td>\n      <td>32</td>\n      <td>97</td>\n      <td>620.0</td>\n      <td>344</td>\n      <td>108</td>\n      <td>72</td>\n      <td>...</td>\n      <td>1</td>\n      <td>0</td>\n      <td>0</td>\n      <td>48</td>\n      <td>119</td>\n      <td>2.0</td>\n      <td>1</td>\n      <td>Сибирский федеральный округ</td>\n      <td>3</td>\n      <td>0.105626</td>\n    </tr>\n    <tr>\n      <th>2021</th>\n      <td>727</td>\n      <td>0</td>\n      <td>9.0</td>\n      <td>162</td>\n      <td>321</td>\n      <td>235</td>\n      <td>408.0</td>\n      <td>0</td>\n      <td>9</td>\n      <td>66</td>\n      <td>...</td>\n      <td>0</td>\n      <td>0</td>\n      <td>0</td>\n      <td>0</td>\n      <td>0</td>\n      <td>3.0</td>\n      <td>1</td>\n      <td>Центральный федеральный округ</td>\n      <td>3</td>\n      <td>0.023041</td>\n    </tr>\n    <tr>\n      <th>2022</th>\n      <td>983</td>\n      <td>0</td>\n      <td>0.0</td>\n      <td>792</td>\n      <td>191</td>\n      <td>0</td>\n      <td>415.0</td>\n      <td>0</td>\n      <td>0</td>\n      <td>383</td>\n      <td>...</td>\n      <td>0</td>\n      <td>0</td>\n      <td>0</td>\n      <td>0</td>\n      <td>0</td>\n      <td>3.0</td>\n      <td>1</td>\n      <td>Северо-Кавказский федеральный округ</td>\n      <td>3</td>\n      <td>0.057852</td>\n    </tr>\n    <tr>\n      <th>2023</th>\n      <td>850</td>\n      <td>0</td>\n      <td>140.0</td>\n      <td>626</td>\n      <td>84</td>\n      <td>0</td>\n      <td>594.0</td>\n      <td>0</td>\n      <td>98</td>\n      <td>496</td>\n      <td>...</td>\n      <td>0</td>\n      <td>2</td>\n      <td>0</td>\n      <td>0</td>\n      <td>0</td>\n      <td>3.0</td>\n      <td>0</td>\n      <td>Центральный федеральный округ</td>\n      <td>1</td>\n      <td>0.025182</td>\n    </tr>\n    <tr>\n      <th>2024</th>\n      <td>3612</td>\n      <td>939</td>\n      <td>584.0</td>\n      <td>1964</td>\n      <td>61</td>\n      <td>64</td>\n      <td>1258.0</td>\n      <td>240</td>\n      <td>184</td>\n      <td>773</td>\n      <td>...</td>\n      <td>8</td>\n      <td>0</td>\n      <td>0</td>\n      <td>1</td>\n      <td>0</td>\n      <td>2.0</td>\n      <td>1</td>\n      <td>Сибирский федеральный округ</td>\n      <td>3</td>\n      <td>0.107734</td>\n    </tr>\n    <tr>\n      <th>2025</th>\n      <td>548</td>\n      <td>147</td>\n      <td>379.0</td>\n      <td>22</td>\n      <td>0</td>\n      <td>0</td>\n      <td>548.0</td>\n      <td>147</td>\n      <td>379</td>\n      <td>22</td>\n      <td>...</td>\n      <td>0</td>\n      <td>0</td>\n      <td>0</td>\n      <td>0</td>\n      <td>0</td>\n      <td>3.0</td>\n      <td>1</td>\n      <td>Уральский федеральный округ</td>\n      <td>3</td>\n      <td>0.074054</td>\n    </tr>\n    <tr>\n      <th>2026</th>\n      <td>377</td>\n      <td>0</td>\n      <td>62.0</td>\n      <td>315</td>\n      <td>0</td>\n      <td>0</td>\n      <td>359.0</td>\n      <td>0</td>\n      <td>58</td>\n      <td>301</td>\n      <td>...</td>\n      <td>0</td>\n      <td>0</td>\n      <td>0</td>\n      <td>0</td>\n      <td>0</td>\n      <td>3.0</td>\n      <td>1</td>\n      <td>Центральный федеральный округ</td>\n      <td>1</td>\n      <td>0.034985</td>\n    </tr>\n    <tr>\n      <th>2027</th>\n      <td>1072</td>\n      <td>295</td>\n      <td>199.0</td>\n      <td>578</td>\n      <td>0</td>\n      <td>0</td>\n      <td>0.0</td>\n      <td>0</td>\n      <td>0</td>\n      <td>0</td>\n      <td>...</td>\n      <td>0</td>\n      <td>0</td>\n      <td>0</td>\n      <td>0</td>\n      <td>71</td>\n      <td>3.0</td>\n      <td>1</td>\n      <td>Приволжский федеральный округ</td>\n      <td>1</td>\n      <td>0.069532</td>\n    </tr>\n    <tr>\n      <th>2028</th>\n      <td>871</td>\n      <td>1</td>\n      <td>70.0</td>\n      <td>244</td>\n      <td>375</td>\n      <td>181</td>\n      <td>321.0</td>\n      <td>0</td>\n      <td>0</td>\n      <td>185</td>\n      <td>...</td>\n      <td>1</td>\n      <td>0</td>\n      <td>0</td>\n      <td>0</td>\n      <td>0</td>\n      <td>3.0</td>\n      <td>1</td>\n      <td>Центральный федеральный округ</td>\n      <td>3</td>\n      <td>0.064423</td>\n    </tr>\n  </tbody>\n</table>\n<p>25 rows × 39 columns</p>\n</div>"
     },
     "execution_count": 39,
     "metadata": {},
     "output_type": "execute_result"
    }
   ],
   "source": [
    "tv_viewing_data = X.drop([\"Размер ДХ\", \"Тип ресивера\", \"Тип нас.пункта\", \"ФО\", \"Почтовый индекс\"], axis=1)\n",
    "\n",
    "cols_for_household_size_imputation = [*tv_viewing_data.columns, \"Размер ДХ\"]\n",
    "data_for_household_size_imputation = X.loc[:, cols_for_household_size_imputation]\n",
    "\n",
    "indexes_of_rows_with_missing_values_for_household_size= X.loc[:, \"Размер ДХ\"].isna().where(lambda x: x).dropna().index\n",
    "rows_with_missing_values_for_household_size = data_for_household_size_imputation.loc[indexes_of_rows_with_missing_values_for_household_size, :]\n",
    "\n",
    "rows_without_missing_values_for_household_size = data_for_household_size_imputation.loc[X[\"Размер ДХ\"].notna().where(lambda x: x).dropna().index, :]\n",
    "\n",
    "imputer.fit(rows_without_missing_values_for_household_size)\n",
    "# \n",
    "imputed_data = imputer.transform(rows_with_missing_values_for_household_size)\n",
    "\n",
    "index_of_household_column = data_for_household_size_imputation.columns.get_loc(\"Размер ДХ\")\n",
    "for imputed_row  in imputed_data:\n",
    "    imputed_row[index_of_household_column] = round(imputed_row[index_of_household_column])\n",
    "\n",
    "X.loc[indexes_of_rows_with_missing_values_for_household_size, cols_for_household_size_imputation] = imputed_data\n",
    "\n",
    "X.loc[indexes_of_rows_with_missing_values_for_household_size]"
   ],
   "metadata": {
    "collapsed": false,
    "ExecuteTime": {
     "end_time": "2024-03-05T10:46:45.963223348Z",
     "start_time": "2024-03-05T10:46:45.623295222Z"
    }
   },
   "id": "21a17ac8951a697"
  },
  {
   "cell_type": "code",
   "execution_count": 40,
   "outputs": [],
   "source": [
    "federal_district_one_hot_encoded = pd.get_dummies(X.loc[:, [\"ФО\"]]).astype(int)\n",
    "X = pd.concat([X, federal_district_one_hot_encoded], axis=1)\n",
    "X.drop([\"ФО\"], axis=1, inplace=True)"
   ],
   "metadata": {
    "collapsed": false,
    "ExecuteTime": {
     "end_time": "2024-03-05T10:46:46.090532978Z",
     "start_time": "2024-03-05T10:46:45.813811359Z"
    }
   },
   "id": "5dcb9ab77a5d2c98"
  },
  {
   "cell_type": "code",
   "execution_count": 41,
   "outputs": [
    {
     "data": {
      "text/plain": "     Общее телесмотрение  Телесмотрение ночью  Телесмотрение утром  \\\n200                 2915                  252                609.0   \n201                  529                    0                 26.0   \n202                 1380                   66                156.0   \n203                 1020                  481                183.0   \n204                  506                    0                  2.0   \n205                 3440                  431                300.0   \n206                   52                    0                  0.0   \n207                 1793                   33                380.0   \n208                  857                    0                122.0   \n209                 1406                    0                127.0   \n210                 1645                 1126                172.0   \n211                  381                    1                  0.0   \n212                 2930                    1                363.0   \n213                  119                   28                  0.0   \n214                 2224                   27                511.0   \n215                  859                    0                 56.0   \n216                  214                   81                133.0   \n217                 2588                  270                396.0   \n218                  372                  175                157.0   \n219                  416                   14                 25.0   \n220                  342                    0                  0.0   \n221                  599                  152                113.0   \n222                 1743                    0                104.0   \n223                  922                    0                 18.0   \n224                 2006                  377                507.0   \n\n     Телесмотрение в рабочее время  Телесмотрение в вечернее время  \\\n200                           1435                             360   \n201                            503                               0   \n202                           1158                               0   \n203                            356                               0   \n204                            504                               0   \n205                           1750                             463   \n206                             52                               0   \n207                           1380                               0   \n208                            735                               0   \n209                           1116                             163   \n210                            288                              59   \n211                             78                             121   \n212                           1955                             389   \n213                             91                               0   \n214                           1038                             438   \n215                            532                             271   \n216                              0                               0   \n217                           1425                             242   \n218                             39                               1   \n219                            341                              31   \n220                            331                              11   \n221                            268                               0   \n222                           1539                             100   \n223                            634                             125   \n224                           1105                              17   \n\n     Телесмотрение в прайм тайм  Общее телесмотрение Пн-Пт  \\\n200                         259                      700.0   \n201                           0                        0.0   \n202                           0                      968.0   \n203                           0                      284.0   \n204                           0                      267.0   \n205                         496                     1604.0   \n206                           0                        6.0   \n207                           0                     1122.0   \n208                           0                      855.0   \n209                           0                      744.0   \n210                           0                      667.0   \n211                         181                      381.0   \n212                         222                     1236.0   \n213                           0                        0.0   \n214                         210                     1059.0   \n215                           0                      286.0   \n216                           0                      214.0   \n217                         255                      864.0   \n218                           0                       39.0   \n219                           5                      227.0   \n220                           0                      118.0   \n221                          66                      313.0   \n222                           0                      650.0   \n223                         145                        0.0   \n224                           0                      761.0   \n\n     Телесмотрение ночью Пн-Пт  Телесмотрение утром Пн-Пт  \\\n200                        135                        358   \n201                          0                          0   \n202                         64                        156   \n203                        121                          0   \n204                          0                          2   \n205                        118                        269   \n206                          0                          0   \n207                         19                        182   \n208                          0                        121   \n209                          0                        127   \n210                        352                        115   \n211                          1                          0   \n212                          0                        363   \n213                          0                          0   \n214                          0                        328   \n215                          0                          0   \n216                         81                        133   \n217                        101                        181   \n218                          0                          0   \n219                         14                         25   \n220                          0                          0   \n221                         54                         19   \n222                          0                         32   \n223                          0                          0   \n224                         86                        184   \n\n     Телесмотрение в рабочее время Пн-Пт  ...  Тип ресивера  Тип нас.пункта  \\\n200                                  207  ...             1             3.0   \n201                                    0  ...             1             3.0   \n202                                  748  ...             1             1.0   \n203                                  163  ...             0             2.0   \n204                                  265  ...             1             2.0   \n205                                 1052  ...             0             1.0   \n206                                    6  ...             0             3.0   \n207                                  921  ...             1             3.0   \n208                                  734  ...             1             3.0   \n209                                  544  ...             1             1.0   \n210                                  200  ...             1             2.0   \n211                                   78  ...             1             3.0   \n212                                  829  ...             1             1.0   \n213                                    0  ...             1             2.0   \n214                                  498  ...             0             2.0   \n215                                  167  ...             0             1.0   \n216                                    0  ...             0             2.0   \n217                                  582  ...             0             2.0   \n218                                   39  ...             1             1.0   \n219                                  188  ...             1             1.0   \n220                                  118  ...             1             2.0   \n221                                  174  ...             1             2.0   \n222                                  617  ...             0             3.0   \n223                                    0  ...             1             3.0   \n224                                  474  ...             1             3.0   \n\n     Почтовый индекс  ФО_Приволжский федеральный округ  \\\n200         0.059581                                 0   \n201         0.074798                                 1   \n202         0.024684                                 0   \n203         0.107228                                 0   \n204         0.023151                                 0   \n205         0.024771                                 0   \n206         0.101404                                 0   \n207         0.057207                                 0   \n208         0.063547                                 0   \n209         0.024745                                 0   \n210         0.105681                                 0   \n211         0.069798                                 1   \n212         0.027829                                 0   \n213         0.073963                                 0   \n214         0.022895                                 0   \n215         0.025176                                 0   \n216         0.064418                                 0   \n217         0.057764                                 0   \n218         0.027827                                 0   \n219         0.097353                                 0   \n220         0.065304                                 0   \n221         0.027037                                 0   \n222         0.059303                                 0   \n223         0.074051                                 0   \n224         0.073201                                 1   \n\n     ФО_Северо-Западный федеральный округ  \\\n200                                     0   \n201                                     0   \n202                                     0   \n203                                     0   \n204                                     0   \n205                                     0   \n206                                     0   \n207                                     0   \n208                                     0   \n209                                     0   \n210                                     0   \n211                                     0   \n212                                     0   \n213                                     0   \n214                                     0   \n215                                     0   \n216                                     0   \n217                                     0   \n218                                     0   \n219                                     0   \n220                                     0   \n221                                     1   \n222                                     0   \n223                                     0   \n224                                     0   \n\n     ФО_Северо-Кавказский федеральный округ  ФО_Сибирский федеральный округ  \\\n200                                       1                               0   \n201                                       0                               0   \n202                                       0                               0   \n203                                       0                               1   \n204                                       0                               0   \n205                                       0                               0   \n206                                       0                               0   \n207                                       0                               0   \n208                                       0                               0   \n209                                       0                               0   \n210                                       0                               1   \n211                                       0                               0   \n212                                       0                               0   \n213                                       0                               0   \n214                                       0                               0   \n215                                       0                               0   \n216                                       0                               0   \n217                                       1                               0   \n218                                       0                               0   \n219                                       0                               0   \n220                                       0                               0   \n221                                       0                               0   \n222                                       1                               0   \n223                                       0                               0   \n224                                       0                               0   \n\n     ФО_Уральский федеральный округ  ФО_Центральный федеральный округ  \\\n200                               0                                 0   \n201                               0                                 0   \n202                               0                                 1   \n203                               0                                 0   \n204                               0                                 1   \n205                               0                                 1   \n206                               1                                 0   \n207                               0                                 0   \n208                               0                                 1   \n209                               0                                 1   \n210                               0                                 0   \n211                               0                                 0   \n212                               0                                 1   \n213                               1                                 0   \n214                               0                                 1   \n215                               0                                 1   \n216                               0                                 1   \n217                               0                                 0   \n218                               0                                 1   \n219                               0                                 1   \n220                               0                                 0   \n221                               0                                 0   \n222                               0                                 0   \n223                               1                                 0   \n224                               0                                 0   \n\n     ФО_Южный федеральный округ  \n200                           0  \n201                           0  \n202                           0  \n203                           0  \n204                           0  \n205                           0  \n206                           0  \n207                           1  \n208                           0  \n209                           0  \n210                           0  \n211                           0  \n212                           0  \n213                           0  \n214                           0  \n215                           0  \n216                           0  \n217                           0  \n218                           0  \n219                           0  \n220                           1  \n221                           0  \n222                           0  \n223                           0  \n224                           0  \n\n[25 rows x 45 columns]",
      "text/html": "<div>\n<style scoped>\n    .dataframe tbody tr th:only-of-type {\n        vertical-align: middle;\n    }\n\n    .dataframe tbody tr th {\n        vertical-align: top;\n    }\n\n    .dataframe thead th {\n        text-align: right;\n    }\n</style>\n<table border=\"1\" class=\"dataframe\">\n  <thead>\n    <tr style=\"text-align: right;\">\n      <th></th>\n      <th>Общее телесмотрение</th>\n      <th>Телесмотрение ночью</th>\n      <th>Телесмотрение утром</th>\n      <th>Телесмотрение в рабочее время</th>\n      <th>Телесмотрение в вечернее время</th>\n      <th>Телесмотрение в прайм тайм</th>\n      <th>Общее телесмотрение Пн-Пт</th>\n      <th>Телесмотрение ночью Пн-Пт</th>\n      <th>Телесмотрение утром Пн-Пт</th>\n      <th>Телесмотрение в рабочее время Пн-Пт</th>\n      <th>...</th>\n      <th>Тип ресивера</th>\n      <th>Тип нас.пункта</th>\n      <th>Почтовый индекс</th>\n      <th>ФО_Приволжский федеральный округ</th>\n      <th>ФО_Северо-Западный федеральный округ</th>\n      <th>ФО_Северо-Кавказский федеральный округ</th>\n      <th>ФО_Сибирский федеральный округ</th>\n      <th>ФО_Уральский федеральный округ</th>\n      <th>ФО_Центральный федеральный округ</th>\n      <th>ФО_Южный федеральный округ</th>\n    </tr>\n  </thead>\n  <tbody>\n    <tr>\n      <th>200</th>\n      <td>2915</td>\n      <td>252</td>\n      <td>609.0</td>\n      <td>1435</td>\n      <td>360</td>\n      <td>259</td>\n      <td>700.0</td>\n      <td>135</td>\n      <td>358</td>\n      <td>207</td>\n      <td>...</td>\n      <td>1</td>\n      <td>3.0</td>\n      <td>0.059581</td>\n      <td>0</td>\n      <td>0</td>\n      <td>1</td>\n      <td>0</td>\n      <td>0</td>\n      <td>0</td>\n      <td>0</td>\n    </tr>\n    <tr>\n      <th>201</th>\n      <td>529</td>\n      <td>0</td>\n      <td>26.0</td>\n      <td>503</td>\n      <td>0</td>\n      <td>0</td>\n      <td>0.0</td>\n      <td>0</td>\n      <td>0</td>\n      <td>0</td>\n      <td>...</td>\n      <td>1</td>\n      <td>3.0</td>\n      <td>0.074798</td>\n      <td>1</td>\n      <td>0</td>\n      <td>0</td>\n      <td>0</td>\n      <td>0</td>\n      <td>0</td>\n      <td>0</td>\n    </tr>\n    <tr>\n      <th>202</th>\n      <td>1380</td>\n      <td>66</td>\n      <td>156.0</td>\n      <td>1158</td>\n      <td>0</td>\n      <td>0</td>\n      <td>968.0</td>\n      <td>64</td>\n      <td>156</td>\n      <td>748</td>\n      <td>...</td>\n      <td>1</td>\n      <td>1.0</td>\n      <td>0.024684</td>\n      <td>0</td>\n      <td>0</td>\n      <td>0</td>\n      <td>0</td>\n      <td>0</td>\n      <td>1</td>\n      <td>0</td>\n    </tr>\n    <tr>\n      <th>203</th>\n      <td>1020</td>\n      <td>481</td>\n      <td>183.0</td>\n      <td>356</td>\n      <td>0</td>\n      <td>0</td>\n      <td>284.0</td>\n      <td>121</td>\n      <td>0</td>\n      <td>163</td>\n      <td>...</td>\n      <td>0</td>\n      <td>2.0</td>\n      <td>0.107228</td>\n      <td>0</td>\n      <td>0</td>\n      <td>0</td>\n      <td>1</td>\n      <td>0</td>\n      <td>0</td>\n      <td>0</td>\n    </tr>\n    <tr>\n      <th>204</th>\n      <td>506</td>\n      <td>0</td>\n      <td>2.0</td>\n      <td>504</td>\n      <td>0</td>\n      <td>0</td>\n      <td>267.0</td>\n      <td>0</td>\n      <td>2</td>\n      <td>265</td>\n      <td>...</td>\n      <td>1</td>\n      <td>2.0</td>\n      <td>0.023151</td>\n      <td>0</td>\n      <td>0</td>\n      <td>0</td>\n      <td>0</td>\n      <td>0</td>\n      <td>1</td>\n      <td>0</td>\n    </tr>\n    <tr>\n      <th>205</th>\n      <td>3440</td>\n      <td>431</td>\n      <td>300.0</td>\n      <td>1750</td>\n      <td>463</td>\n      <td>496</td>\n      <td>1604.0</td>\n      <td>118</td>\n      <td>269</td>\n      <td>1052</td>\n      <td>...</td>\n      <td>0</td>\n      <td>1.0</td>\n      <td>0.024771</td>\n      <td>0</td>\n      <td>0</td>\n      <td>0</td>\n      <td>0</td>\n      <td>0</td>\n      <td>1</td>\n      <td>0</td>\n    </tr>\n    <tr>\n      <th>206</th>\n      <td>52</td>\n      <td>0</td>\n      <td>0.0</td>\n      <td>52</td>\n      <td>0</td>\n      <td>0</td>\n      <td>6.0</td>\n      <td>0</td>\n      <td>0</td>\n      <td>6</td>\n      <td>...</td>\n      <td>0</td>\n      <td>3.0</td>\n      <td>0.101404</td>\n      <td>0</td>\n      <td>0</td>\n      <td>0</td>\n      <td>0</td>\n      <td>1</td>\n      <td>0</td>\n      <td>0</td>\n    </tr>\n    <tr>\n      <th>207</th>\n      <td>1793</td>\n      <td>33</td>\n      <td>380.0</td>\n      <td>1380</td>\n      <td>0</td>\n      <td>0</td>\n      <td>1122.0</td>\n      <td>19</td>\n      <td>182</td>\n      <td>921</td>\n      <td>...</td>\n      <td>1</td>\n      <td>3.0</td>\n      <td>0.057207</td>\n      <td>0</td>\n      <td>0</td>\n      <td>0</td>\n      <td>0</td>\n      <td>0</td>\n      <td>0</td>\n      <td>1</td>\n    </tr>\n    <tr>\n      <th>208</th>\n      <td>857</td>\n      <td>0</td>\n      <td>122.0</td>\n      <td>735</td>\n      <td>0</td>\n      <td>0</td>\n      <td>855.0</td>\n      <td>0</td>\n      <td>121</td>\n      <td>734</td>\n      <td>...</td>\n      <td>1</td>\n      <td>3.0</td>\n      <td>0.063547</td>\n      <td>0</td>\n      <td>0</td>\n      <td>0</td>\n      <td>0</td>\n      <td>0</td>\n      <td>1</td>\n      <td>0</td>\n    </tr>\n    <tr>\n      <th>209</th>\n      <td>1406</td>\n      <td>0</td>\n      <td>127.0</td>\n      <td>1116</td>\n      <td>163</td>\n      <td>0</td>\n      <td>744.0</td>\n      <td>0</td>\n      <td>127</td>\n      <td>544</td>\n      <td>...</td>\n      <td>1</td>\n      <td>1.0</td>\n      <td>0.024745</td>\n      <td>0</td>\n      <td>0</td>\n      <td>0</td>\n      <td>0</td>\n      <td>0</td>\n      <td>1</td>\n      <td>0</td>\n    </tr>\n    <tr>\n      <th>210</th>\n      <td>1645</td>\n      <td>1126</td>\n      <td>172.0</td>\n      <td>288</td>\n      <td>59</td>\n      <td>0</td>\n      <td>667.0</td>\n      <td>352</td>\n      <td>115</td>\n      <td>200</td>\n      <td>...</td>\n      <td>1</td>\n      <td>2.0</td>\n      <td>0.105681</td>\n      <td>0</td>\n      <td>0</td>\n      <td>0</td>\n      <td>1</td>\n      <td>0</td>\n      <td>0</td>\n      <td>0</td>\n    </tr>\n    <tr>\n      <th>211</th>\n      <td>381</td>\n      <td>1</td>\n      <td>0.0</td>\n      <td>78</td>\n      <td>121</td>\n      <td>181</td>\n      <td>381.0</td>\n      <td>1</td>\n      <td>0</td>\n      <td>78</td>\n      <td>...</td>\n      <td>1</td>\n      <td>3.0</td>\n      <td>0.069798</td>\n      <td>1</td>\n      <td>0</td>\n      <td>0</td>\n      <td>0</td>\n      <td>0</td>\n      <td>0</td>\n      <td>0</td>\n    </tr>\n    <tr>\n      <th>212</th>\n      <td>2930</td>\n      <td>1</td>\n      <td>363.0</td>\n      <td>1955</td>\n      <td>389</td>\n      <td>222</td>\n      <td>1236.0</td>\n      <td>0</td>\n      <td>363</td>\n      <td>829</td>\n      <td>...</td>\n      <td>1</td>\n      <td>1.0</td>\n      <td>0.027829</td>\n      <td>0</td>\n      <td>0</td>\n      <td>0</td>\n      <td>0</td>\n      <td>0</td>\n      <td>1</td>\n      <td>0</td>\n    </tr>\n    <tr>\n      <th>213</th>\n      <td>119</td>\n      <td>28</td>\n      <td>0.0</td>\n      <td>91</td>\n      <td>0</td>\n      <td>0</td>\n      <td>0.0</td>\n      <td>0</td>\n      <td>0</td>\n      <td>0</td>\n      <td>...</td>\n      <td>1</td>\n      <td>2.0</td>\n      <td>0.073963</td>\n      <td>0</td>\n      <td>0</td>\n      <td>0</td>\n      <td>0</td>\n      <td>1</td>\n      <td>0</td>\n      <td>0</td>\n    </tr>\n    <tr>\n      <th>214</th>\n      <td>2224</td>\n      <td>27</td>\n      <td>511.0</td>\n      <td>1038</td>\n      <td>438</td>\n      <td>210</td>\n      <td>1059.0</td>\n      <td>0</td>\n      <td>328</td>\n      <td>498</td>\n      <td>...</td>\n      <td>0</td>\n      <td>2.0</td>\n      <td>0.022895</td>\n      <td>0</td>\n      <td>0</td>\n      <td>0</td>\n      <td>0</td>\n      <td>0</td>\n      <td>1</td>\n      <td>0</td>\n    </tr>\n    <tr>\n      <th>215</th>\n      <td>859</td>\n      <td>0</td>\n      <td>56.0</td>\n      <td>532</td>\n      <td>271</td>\n      <td>0</td>\n      <td>286.0</td>\n      <td>0</td>\n      <td>0</td>\n      <td>167</td>\n      <td>...</td>\n      <td>0</td>\n      <td>1.0</td>\n      <td>0.025176</td>\n      <td>0</td>\n      <td>0</td>\n      <td>0</td>\n      <td>0</td>\n      <td>0</td>\n      <td>1</td>\n      <td>0</td>\n    </tr>\n    <tr>\n      <th>216</th>\n      <td>214</td>\n      <td>81</td>\n      <td>133.0</td>\n      <td>0</td>\n      <td>0</td>\n      <td>0</td>\n      <td>214.0</td>\n      <td>81</td>\n      <td>133</td>\n      <td>0</td>\n      <td>...</td>\n      <td>0</td>\n      <td>2.0</td>\n      <td>0.064418</td>\n      <td>0</td>\n      <td>0</td>\n      <td>0</td>\n      <td>0</td>\n      <td>0</td>\n      <td>1</td>\n      <td>0</td>\n    </tr>\n    <tr>\n      <th>217</th>\n      <td>2588</td>\n      <td>270</td>\n      <td>396.0</td>\n      <td>1425</td>\n      <td>242</td>\n      <td>255</td>\n      <td>864.0</td>\n      <td>101</td>\n      <td>181</td>\n      <td>582</td>\n      <td>...</td>\n      <td>0</td>\n      <td>2.0</td>\n      <td>0.057764</td>\n      <td>0</td>\n      <td>0</td>\n      <td>1</td>\n      <td>0</td>\n      <td>0</td>\n      <td>0</td>\n      <td>0</td>\n    </tr>\n    <tr>\n      <th>218</th>\n      <td>372</td>\n      <td>175</td>\n      <td>157.0</td>\n      <td>39</td>\n      <td>1</td>\n      <td>0</td>\n      <td>39.0</td>\n      <td>0</td>\n      <td>0</td>\n      <td>39</td>\n      <td>...</td>\n      <td>1</td>\n      <td>1.0</td>\n      <td>0.027827</td>\n      <td>0</td>\n      <td>0</td>\n      <td>0</td>\n      <td>0</td>\n      <td>0</td>\n      <td>1</td>\n      <td>0</td>\n    </tr>\n    <tr>\n      <th>219</th>\n      <td>416</td>\n      <td>14</td>\n      <td>25.0</td>\n      <td>341</td>\n      <td>31</td>\n      <td>5</td>\n      <td>227.0</td>\n      <td>14</td>\n      <td>25</td>\n      <td>188</td>\n      <td>...</td>\n      <td>1</td>\n      <td>1.0</td>\n      <td>0.097353</td>\n      <td>0</td>\n      <td>0</td>\n      <td>0</td>\n      <td>0</td>\n      <td>0</td>\n      <td>1</td>\n      <td>0</td>\n    </tr>\n    <tr>\n      <th>220</th>\n      <td>342</td>\n      <td>0</td>\n      <td>0.0</td>\n      <td>331</td>\n      <td>11</td>\n      <td>0</td>\n      <td>118.0</td>\n      <td>0</td>\n      <td>0</td>\n      <td>118</td>\n      <td>...</td>\n      <td>1</td>\n      <td>2.0</td>\n      <td>0.065304</td>\n      <td>0</td>\n      <td>0</td>\n      <td>0</td>\n      <td>0</td>\n      <td>0</td>\n      <td>0</td>\n      <td>1</td>\n    </tr>\n    <tr>\n      <th>221</th>\n      <td>599</td>\n      <td>152</td>\n      <td>113.0</td>\n      <td>268</td>\n      <td>0</td>\n      <td>66</td>\n      <td>313.0</td>\n      <td>54</td>\n      <td>19</td>\n      <td>174</td>\n      <td>...</td>\n      <td>1</td>\n      <td>2.0</td>\n      <td>0.027037</td>\n      <td>0</td>\n      <td>1</td>\n      <td>0</td>\n      <td>0</td>\n      <td>0</td>\n      <td>0</td>\n      <td>0</td>\n    </tr>\n    <tr>\n      <th>222</th>\n      <td>1743</td>\n      <td>0</td>\n      <td>104.0</td>\n      <td>1539</td>\n      <td>100</td>\n      <td>0</td>\n      <td>650.0</td>\n      <td>0</td>\n      <td>32</td>\n      <td>617</td>\n      <td>...</td>\n      <td>0</td>\n      <td>3.0</td>\n      <td>0.059303</td>\n      <td>0</td>\n      <td>0</td>\n      <td>1</td>\n      <td>0</td>\n      <td>0</td>\n      <td>0</td>\n      <td>0</td>\n    </tr>\n    <tr>\n      <th>223</th>\n      <td>922</td>\n      <td>0</td>\n      <td>18.0</td>\n      <td>634</td>\n      <td>125</td>\n      <td>145</td>\n      <td>0.0</td>\n      <td>0</td>\n      <td>0</td>\n      <td>0</td>\n      <td>...</td>\n      <td>1</td>\n      <td>3.0</td>\n      <td>0.074051</td>\n      <td>0</td>\n      <td>0</td>\n      <td>0</td>\n      <td>0</td>\n      <td>1</td>\n      <td>0</td>\n      <td>0</td>\n    </tr>\n    <tr>\n      <th>224</th>\n      <td>2006</td>\n      <td>377</td>\n      <td>507.0</td>\n      <td>1105</td>\n      <td>17</td>\n      <td>0</td>\n      <td>761.0</td>\n      <td>86</td>\n      <td>184</td>\n      <td>474</td>\n      <td>...</td>\n      <td>1</td>\n      <td>3.0</td>\n      <td>0.073201</td>\n      <td>1</td>\n      <td>0</td>\n      <td>0</td>\n      <td>0</td>\n      <td>0</td>\n      <td>0</td>\n      <td>0</td>\n    </tr>\n  </tbody>\n</table>\n<p>25 rows × 45 columns</p>\n</div>"
     },
     "execution_count": 41,
     "metadata": {},
     "output_type": "execute_result"
    }
   ],
   "source": [
    "cols_for_type_of_inhabited_locality_imputation = [*federal_district_one_hot_encoded, \"Почтовый индекс\", \"Тип нас.пункта\"]\n",
    "data_for_type_of_inhabited_locality_imputation = X.loc[:, cols_for_type_of_inhabited_locality_imputation]\n",
    "\n",
    "indexes_of_rows_with_missing_values_for_type_of_inhabited_locality = data_for_type_of_inhabited_locality_imputation.loc[:, \"Тип нас.пункта\"].isna().where(lambda x: x).dropna().index\n",
    "\n",
    "rows_with_missing_values_for_type_of_inhabited_locality = data_for_type_of_inhabited_locality_imputation.loc[indexes_of_rows_with_missing_values_for_type_of_inhabited_locality, :]\n",
    "#\n",
    "rows_without_missing_values_for_type_of_inhabited_locality = data_for_type_of_inhabited_locality_imputation.loc[X[\"Тип нас.пункта\"].notna().where(lambda x: x).dropna().index, :]\n",
    "\n",
    "imputer.fit(rows_without_missing_values_for_type_of_inhabited_locality)\n",
    "# \n",
    "imputed_data = imputer.transform(rows_with_missing_values_for_type_of_inhabited_locality)\n",
    "\n",
    "index_of_type_of_inhabited_locality_column = data_for_type_of_inhabited_locality_imputation.columns.get_loc(\"Тип нас.пункта\")\n",
    "for imputed_row  in imputed_data:\n",
    "    imputed_row[index_of_type_of_inhabited_locality_column] = round(imputed_row[index_of_type_of_inhabited_locality_column])\n",
    "\n",
    "X.loc[indexes_of_rows_with_missing_values_for_type_of_inhabited_locality, cols_for_type_of_inhabited_locality_imputation] = imputed_data\n",
    "\n",
    "X.loc[indexes_of_rows_with_missing_values_for_type_of_inhabited_locality]"
   ],
   "metadata": {
    "collapsed": false,
    "ExecuteTime": {
     "end_time": "2024-03-05T10:46:46.218797009Z",
     "start_time": "2024-03-05T10:46:45.991702472Z"
    }
   },
   "id": "9192488031097fee"
  },
  {
   "cell_type": "code",
   "execution_count": 42,
   "outputs": [],
   "source": [
    "type_of_inhabited_locality_one_hot_encoded = pd.get_dummies(X.loc[:, [\"Тип нас.пункта\"]]).astype(int)\n",
    "\n",
    "X = pd.concat([X, type_of_inhabited_locality_one_hot_encoded], axis=1)\n",
    "X.drop([\"Тип нас.пункта\"], axis=1, inplace=True)"
   ],
   "metadata": {
    "collapsed": false,
    "ExecuteTime": {
     "end_time": "2024-03-05T10:46:46.292677226Z",
     "start_time": "2024-03-05T10:46:46.146880214Z"
    }
   },
   "id": "3261db69c1e1ec8c"
  },
  {
   "cell_type": "code",
   "execution_count": 43,
   "outputs": [],
   "source": [
    "standard_scaler = preprocessing.StandardScaler()\n",
    "\n",
    "X.loc[:, tv_viewing_data.columns] = standard_scaler.fit_transform(tv_viewing_data)"
   ],
   "metadata": {
    "collapsed": false,
    "ExecuteTime": {
     "end_time": "2024-03-05T10:46:46.428120224Z",
     "start_time": "2024-03-05T10:46:46.299561918Z"
    }
   },
   "id": "fc81d324d4a293a7"
  },
  {
   "cell_type": "code",
   "execution_count": 44,
   "outputs": [],
   "source": [
    "X.drop([*federal_district_one_hot_encoded.columns, \"Почтовый индекс\"], axis=1, inplace=True)"
   ],
   "metadata": {
    "collapsed": false,
    "ExecuteTime": {
     "end_time": "2024-03-05T10:46:46.522721116Z",
     "start_time": "2024-03-05T10:46:46.402393790Z"
    }
   },
   "id": "857882993fe8edff"
  },
  {
   "cell_type": "code",
   "execution_count": 45,
   "outputs": [],
   "source": [
    "np.set_printoptions(threshold=sys.maxsize)\n",
    "\n",
    "train_data = pd.concat((X.iloc[:index_of_test_data_beginning], y), axis=1)\n",
    "\n",
    "outlier_detector = ensemble.IsolationForest()\n",
    "\n",
    "assumptions_about_outliers = outlier_detector.fit_predict(train_data)\n",
    "\n",
    "indexes_of_outliers = np.where(assumptions_about_outliers == -1)\n",
    "train_data.drop(index=indexes_of_outliers[0], inplace=True)\n",
    "\n",
    "y = train_data.loc[:, y.columns]\n",
    "X_final_test = X.iloc[index_of_test_data_beginning:]\n",
    "X = train_data.drop(y.columns, axis=1)"
   ],
   "metadata": {
    "collapsed": false,
    "ExecuteTime": {
     "end_time": "2024-03-05T10:46:46.755892951Z",
     "start_time": "2024-03-05T10:46:46.501183863Z"
    }
   },
   "id": "237ae2f73280acd0"
  },
  {
   "cell_type": "markdown",
   "source": [
    "##### Проанализируем корреляцию Пирсона входных признаков друг с другом. В основном тесно связаны телесмотрения, что вполне ожидаемо."
   ],
   "metadata": {
    "collapsed": false
   },
   "id": "4198e6220030129d"
  },
  {
   "cell_type": "code",
   "execution_count": 46,
   "outputs": [],
   "source": [
    "# pyplot.subplots(figsize=(10, 10))\n",
    "# sns.heatmap(X.select_dtypes(exclude=['object']).corr(), xticklabels=1, yticklabels=1)"
   ],
   "metadata": {
    "collapsed": false,
    "ExecuteTime": {
     "end_time": "2024-03-05T10:46:46.780387216Z",
     "start_time": "2024-03-05T10:46:46.720633973Z"
    }
   },
   "id": "d13125221de0d9a6"
  },
  {
   "cell_type": "markdown",
   "source": [
    "##### Также проанализируем корреляцию между входными и целевыми признаками. Обращает на себя внимание обратная зависимость выше среднего между размером ДХ и наличием членов семьи в возрасте до 18 лет."
   ],
   "metadata": {
    "collapsed": false
   },
   "id": "e1f91fa69215422e"
  },
  {
   "cell_type": "code",
   "execution_count": 47,
   "outputs": [],
   "source": [
    "# correlations_per_target = pd.DataFrame(columns=predictor_col_names)\n",
    "# for predictor_col_name in predictor_col_names:\n",
    "#     correlation_of_features_with_target = X.select_dtypes(exclude=['object']).corrwith(y[predictor_col_name])\n",
    "#     correlations_per_target[predictor_col_name] = correlation_of_features_with_target\n",
    "#\n",
    "# pyplot.subplots(figsize=(10, 10))\n",
    "# sns.heatmap(correlations_per_target, xticklabels=1, yticklabels=1)"
   ],
   "metadata": {
    "collapsed": false,
    "ExecuteTime": {
     "end_time": "2024-03-05T10:46:46.792543221Z",
     "start_time": "2024-03-05T10:46:46.763976619Z"
    }
   },
   "id": "d49111839e91e599"
  },
  {
   "cell_type": "markdown",
   "source": [
    "##### И в конце концов проанализируем зависимость между целевыми признаками. В основном имеют связаны(обратно пропорционально) представители разбитого нами состав ДХ, что вполне ожидаемо."
   ],
   "metadata": {
    "collapsed": false
   },
   "id": "ad45ff51f230d930"
  },
  {
   "cell_type": "code",
   "execution_count": 48,
   "outputs": [],
   "source": [
    "# sns.heatmap(y.corr(), xticklabels=1, yticklabels=1)"
   ],
   "metadata": {
    "collapsed": false,
    "ExecuteTime": {
     "end_time": "2024-03-05T10:46:46.794549690Z",
     "start_time": "2024-03-05T10:46:46.764470479Z"
    }
   },
   "id": "49fa64eb5b6a936e"
  },
  {
   "cell_type": "code",
   "execution_count": 49,
   "outputs": [],
   "source": [
    "# X_final_test = X.iloc[index_of_test_data_beginning:]\n",
    "# X = X.iloc[:index_of_test_data_beginning]\n",
    "\n",
    "X_train, X_test, y_train, y_test = model_selection.train_test_split(\n",
    "    X,\n",
    "    y,\n",
    "    test_size=.15,\n",
    "    random_state=42\n",
    ")"
   ],
   "metadata": {
    "collapsed": false,
    "ExecuteTime": {
     "end_time": "2024-03-05T10:46:46.796806897Z",
     "start_time": "2024-03-05T10:46:46.764818914Z"
    }
   },
   "id": "f40196b5c3536cb3"
  },
  {
   "cell_type": "markdown",
   "source": [
    "# Обучение\n",
    "\n",
    "##### В качестве модели машинного обучения были испробованы: логистическая регрессия, наивный Байес, многослойный персептрон, машина опорных векторов, случайный лес и чрезвычайно случайный лес. На основе заданных вручную пространств гиперпараметров для каждого алгоритма была найдена наилучшая конфигурация. По итогам лучшим оказался чрезвычайно случайный лес, хоть и с незначительным отрывом. "
   ],
   "metadata": {
    "collapsed": false
   },
   "id": "47d0a091a3f334b1"
  },
  {
   "cell_type": "code",
   "execution_count": 50,
   "outputs": [],
   "source": [
    "def optimization_objective(trial):\n",
    "    hyperparameter_max_depth_range = trial.suggest_int(name=\"max_depth\", low=2, high=128, log=True)\n",
    "    hyperparameter_n_estimators_range = trial.suggest_int(name=\"n_estimators\", low=30, high=500, log=True)\n",
    "    hyperparameter_min_samples_leaf_range = trial.suggest_int(name=\"min_samples_leaf\", low=1, high=3)\n",
    "    hyperparameter_criterion_range = trial.suggest_categorical(name=\"criterion\", choices=[\"gini\", \"entropy\"])\n",
    "    hyperparameter_min_samples_split_range = trial.suggest_int(name=\"min_samples_split\", low=2, high=6, log=True)\n",
    "    hyperparameter_max_features_range = trial.suggest_categorical(name=\"max_features\", choices=[\"sqrt\", \"log2\", None])\n",
    "\n",
    "    classifier_tuned_with_random_hyperparameter_values = ensemble.ExtraTreesClassifier(\n",
    "        n_estimators=hyperparameter_n_estimators_range,\n",
    "        criterion=hyperparameter_criterion_range,\n",
    "        max_depth=hyperparameter_max_depth_range,\n",
    "        min_samples_split=hyperparameter_min_samples_split_range,\n",
    "        min_samples_leaf=hyperparameter_min_samples_leaf_range,\n",
    "        max_features=hyperparameter_max_features_range,\n",
    "        warm_start=True,\n",
    "        random_state=42,\n",
    "\n",
    "    )\n",
    "    multilabel_classifier_ =multioutput.ClassifierChain(classifier_tuned_with_random_hyperparameter_values)\n",
    "\n",
    "    multilabel_classifier_.fit(X_train, y_train)\n",
    "    # classifier_chain.score\n",
    "    predictions_col_wise_ = multilabel_classifier_.predict(X_test).T\n",
    "    \n",
    "    # mean_metric_scores = {\"f1\": 0, \"cohen_kappa\": 0, \"accuracy\": 0}\n",
    "    # for i_, (predictions_, label_) in enumerate(zip(predictions_col_wise_, y_test.columns)):\n",
    "    #     actual_values_ = y_test[label_]\n",
    "    # \n",
    "    #     accuracy_score_ = metrics.accuracy_score(actual_values_, predictions_)\n",
    "    #     mean_metric_scores[\"accuracy\"] += accuracy_score_\n",
    "    # \n",
    "    #     f1_score_ = metrics.f1_score(actual_values_, predictions_)\n",
    "    #     mean_metric_scores[\"f1\"] += f1_score_\n",
    "    # \n",
    "    #     cohen_kappa_score_ = metrics.cohen_kappa_score(actual_values_, predictions_)\n",
    "    #     mean_metric_scores[\"cohen_kappa\"] += cohen_kappa_score_\n",
    "    cohen_kappa_scores = []\n",
    "    for i_, (predictions_, label_) in enumerate(zip(predictions_col_wise_, y_test.columns)):\n",
    "        actual_values_ = y_test[label_]\n",
    "        cohen_kappa_score_ = metrics.cohen_kappa_score(actual_values_, predictions_)\n",
    "        cohen_kappa_scores.append(cohen_kappa_score_)\n",
    "    # for metric_name in mean_metric_scores.keys():\n",
    "    #     mean_metric_scores.update({metric_name: mean_metric_scores.get(metric_name) / 4})\n",
    "    return tuple(cohen_kappa_scores)"
   ],
   "metadata": {
    "collapsed": false,
    "ExecuteTime": {
     "end_time": "2024-03-05T10:46:46.878448344Z",
     "start_time": "2024-03-05T10:46:46.781025174Z"
    }
   },
   "id": "ffbc56cc31e014ab"
  },
  {
   "cell_type": "markdown",
   "source": [
    "##### Найденная конфигурация может не совпасть с представленной ниже, поскольку точные параметры оптимизационного кода были утрачены в ходе ряда экспериментов. Закомментировано для удобства запуска."
   ],
   "metadata": {
    "collapsed": false
   },
   "id": "8da01676d1361500"
  },
  {
   "cell_type": "code",
   "execution_count": 51,
   "outputs": [],
   "source": [
    "# study = optuna.create_study(directions=[\"maximize\", \"maximize\", \"maximize\", \"maximize\"])\n",
    "# \n",
    "# study.optimize(optimization_objective, n_trials=200)\n",
    "# \n",
    "# trial_with_highest_mean_metric_scores = max(study.best_trials, key=lambda x: x.values[1])\n",
    "# print(trial_with_highest_mean_metric_scores.params)\n",
    "# print(trial_with_highest_mean_metric_scores.values)"
   ],
   "metadata": {
    "collapsed": false,
    "ExecuteTime": {
     "end_time": "2024-03-05T10:46:46.881465105Z",
     "start_time": "2024-03-05T10:46:46.822637317Z"
    }
   },
   "id": "e5e5bac1dfb0b08e"
  },
  {
   "cell_type": "markdown",
   "source": [],
   "metadata": {
    "collapsed": false
   },
   "id": "364290113446d4d"
  },
  {
   "cell_type": "markdown",
   "source": [
    "##### Класс ClassifierChain позволяет учесть зависимость между целевыми признаками в процессе предсказания, поэтому имеет смысл внедрить его в наш пайплайн. Также для повышения метрических показателей предсказания для членов семьи до 18 лет были произведены независимо от других целевых признаков."
   ],
   "metadata": {
    "collapsed": false
   },
   "id": "abf7cb8487c49f12"
  },
  {
   "cell_type": "code",
   "execution_count": 52,
   "outputs": [],
   "source": [
    "best_found_model = ensemble.ExtraTreesClassifier(\n",
    "    max_depth=68,\n",
    "    n_estimators=340,\n",
    "    min_samples_leaf=1,\n",
    "    criterion='gini',\n",
    "    min_samples_split=2,\n",
    "    max_features='sqrt',\n",
    "    warm_start=True,\n",
    "    random_state=42\n",
    ")\n",
    "\n",
    "multilabel_classifier =multioutput.ClassifierChain(\n",
    "    best_found_model,\n",
    "    random_state=42\n",
    ")\n",
    "# \n",
    "multilabel_classifier.fit(X_train, y_train.loc[:, [\"Оператор\", \"Есть ли Интернет\", \"Члены семьи в возрасте от 55 лет\"]])\n",
    "multilabel_predictions = multilabel_classifier.predict(X_test)\n",
    "\n",
    "best_found_model.fit(X_train, y_train.loc[:, \"Члены семьи до 18 лет\"])\n",
    "\n",
    "predictions_col_wise = np.concatenate((multilabel_predictions, best_found_model.predict(X_test).reshape(-1, 1)), axis=1).T"
   ],
   "metadata": {
    "collapsed": false,
    "ExecuteTime": {
     "end_time": "2024-03-05T10:46:52.193252157Z",
     "start_time": "2024-03-05T10:46:46.865049896Z"
    }
   },
   "id": "3abd5b8a0bc49c48"
  },
  {
   "cell_type": "markdown",
   "source": [
    "# Метрики"
   ],
   "metadata": {
    "collapsed": false
   },
   "id": "7629e220023ab078"
  },
  {
   "cell_type": "code",
   "execution_count": 53,
   "outputs": [
    {
     "data": {
      "text/plain": "             Оператор Есть ли Интернет Члены семьи в возрасте от 55 лет  \\\naccuracy       0.9447         0.882488                         0.857143   \nf1           0.969466         0.818505                         0.881679   \ncohen_kappa  0.678776         0.733177                         0.703578   \n\n            Члены семьи до 18 лет  \naccuracy                 0.926267  \nf1                       0.928251  \ncohen_kappa              0.852622  ",
      "text/html": "<div>\n<style scoped>\n    .dataframe tbody tr th:only-of-type {\n        vertical-align: middle;\n    }\n\n    .dataframe tbody tr th {\n        vertical-align: top;\n    }\n\n    .dataframe thead th {\n        text-align: right;\n    }\n</style>\n<table border=\"1\" class=\"dataframe\">\n  <thead>\n    <tr style=\"text-align: right;\">\n      <th></th>\n      <th>Оператор</th>\n      <th>Есть ли Интернет</th>\n      <th>Члены семьи в возрасте от 55 лет</th>\n      <th>Члены семьи до 18 лет</th>\n    </tr>\n  </thead>\n  <tbody>\n    <tr>\n      <th>accuracy</th>\n      <td>0.9447</td>\n      <td>0.882488</td>\n      <td>0.857143</td>\n      <td>0.926267</td>\n    </tr>\n    <tr>\n      <th>f1</th>\n      <td>0.969466</td>\n      <td>0.818505</td>\n      <td>0.881679</td>\n      <td>0.928251</td>\n    </tr>\n    <tr>\n      <th>cohen_kappa</th>\n      <td>0.678776</td>\n      <td>0.733177</td>\n      <td>0.703578</td>\n      <td>0.852622</td>\n    </tr>\n  </tbody>\n</table>\n</div>"
     },
     "execution_count": 53,
     "metadata": {},
     "output_type": "execute_result"
    }
   ],
   "source": [
    "scores_per_metric = pd.DataFrame(columns=predictor_col_names, index=[\"accuracy\",\"f1\", \"cohen_kappa\"])\n",
    "for i, (assumptions_about_outliers, predictor_col_name) in enumerate(zip(predictions_col_wise, predictor_col_names)):\n",
    "    actual_values = y_test[predictor_col_name]\n",
    "\n",
    "    accuracy_score = metrics.accuracy_score(actual_values, assumptions_about_outliers)\n",
    "    f1_score = metrics.f1_score(actual_values, assumptions_about_outliers)\n",
    "    cohen_kappa_score = metrics.cohen_kappa_score(actual_values, assumptions_about_outliers)\n",
    "\n",
    "    scores_per_metric.loc[\"accuracy\", predictor_col_name] = accuracy_score\n",
    "    scores_per_metric.loc[\"f1\", predictor_col_name, ] = f1_score\n",
    "    scores_per_metric.loc[\"cohen_kappa\", predictor_col_name] = cohen_kappa_score\n",
    "\n",
    "scores_per_metric"
   ],
   "metadata": {
    "collapsed": false,
    "ExecuteTime": {
     "end_time": "2024-03-05T10:46:52.249520512Z",
     "start_time": "2024-03-05T10:46:52.196275929Z"
    }
   },
   "id": "88ae108163a53b77"
  },
  {
   "cell_type": "markdown",
   "source": [
    "##### И напоследок получаем предсказания для тестовой части выборки. "
   ],
   "metadata": {
    "collapsed": false
   },
   "id": "340b82881ebb6930"
  },
  {
   "cell_type": "code",
   "execution_count": 54,
   "outputs": [],
   "source": [
    "final_predictions_col_wise = np.concatenate((multilabel_classifier.predict(X_final_test), best_found_model.predict(X_final_test).reshape(-1, 1)), axis=1).T\n",
    "\n",
    "final_predictions_per_label = {}\n",
    "for i, label in enumerate(y_test.columns):\n",
    "    final_predictions_per_label[label] = final_predictions_col_wise[i].astype(int)"
   ],
   "metadata": {
    "collapsed": false,
    "ExecuteTime": {
     "end_time": "2024-03-05T10:46:52.441395688Z",
     "start_time": "2024-03-05T10:46:52.228135802Z"
    }
   },
   "id": "214c7df8bf5376f3"
  },
  {
   "cell_type": "markdown",
   "source": [
    "##### Также приведем целевые признаки в исходный вид."
   ],
   "metadata": {
    "collapsed": false
   },
   "id": "af1055cbc54c4f2a"
  },
  {
   "cell_type": "code",
   "execution_count": 55,
   "outputs": [],
   "source": [
    "predictions_per_label_in_categorical_form =  np.empty(shape=(len(final_predictions_per_label.keys()), len(list(final_predictions_per_label.values())[0])), dtype=object)\n",
    "for i, label in enumerate(encoder_per_label.keys()):\n",
    "    predictions_per_label_in_categorical_form[i] = encoder_per_label[label].inverse_transform(final_predictions_per_label[label])\n",
    "\n",
    "predictions_for_household_structure = list(map(\n",
    "    \" и \".join,\n",
    "    zip(\n",
    "        predictions_per_label_in_categorical_form[-2],\n",
    "        predictions_per_label_in_categorical_form[-1]\n",
    "    )\n",
    "))\n",
    "\n",
    "predictions_per_label_in_final_format = np.empty(shape=(len(target_labels), len(predictions_per_label_in_categorical_form[0])), dtype=object)\n",
    "for i in range(len(target_labels)-1):\n",
    "    predictions_per_label_in_final_format[i] = predictions_per_label_in_categorical_form[i]\n",
    "predictions_per_label_in_final_format[2] = predictions_for_household_structure"
   ],
   "metadata": {
    "collapsed": false,
    "ExecuteTime": {
     "end_time": "2024-03-05T10:46:52.452122984Z",
     "start_time": "2024-03-05T10:46:52.446230229Z"
    }
   },
   "id": "7ffbdac2ab71e468"
  },
  {
   "cell_type": "code",
   "execution_count": 56,
   "outputs": [],
   "source": [
    "predictions_per_row = predictions_per_label_in_final_format.T\n",
    "\n",
    "predictions_per_row_in_final_format = pd.DataFrame(predictions_per_row, columns=target_labels)\n",
    "predictions_per_row_in_final_format.insert(loc=0, column=\"id\", value=range(1, len(predictions_per_row_in_final_format.index) + 1))\n",
    "\n",
    "with open(\"submission/predictions.csv\", \"w+\") as submission_file:\n",
    "    writer = csv.writer(submission_file)\n",
    "    writer.writerow(predictions_per_row_in_final_format.columns)\n",
    "    writer.writerows(predictions_per_row_in_final_format.to_numpy())"
   ],
   "metadata": {
    "collapsed": false,
    "ExecuteTime": {
     "end_time": "2024-03-05T10:46:52.498789484Z",
     "start_time": "2024-03-05T10:46:52.457133765Z"
    }
   },
   "id": "e107a01390a195d3"
  },
  {
   "cell_type": "markdown",
   "source": [
    "# Обсуждение\n",
    "\n",
    "##### Что хотелось бы сделать будь больше времени:\n",
    "##### 1. Детальный анализ состава данных.\n",
    "##### 2. Дальнейшая предобработка данных: поиск аномалий и автоматический отбор входных признаков.\n",
    "##### 3. Подбор большего числа моделей машинного обучения.\n",
    " "
   ],
   "metadata": {
    "collapsed": false
   },
   "id": "e1304934e2525de1"
  },
  {
   "cell_type": "code",
   "execution_count": 56,
   "outputs": [],
   "source": [],
   "metadata": {
    "collapsed": false,
    "ExecuteTime": {
     "end_time": "2024-03-05T10:46:52.501738832Z",
     "start_time": "2024-03-05T10:46:52.498542733Z"
    }
   },
   "id": "a4ae32a01c0087a1"
  }
 ],
 "metadata": {
  "kernelspec": {
   "display_name": "Python 3",
   "language": "python",
   "name": "python3"
  },
  "language_info": {
   "codemirror_mode": {
    "name": "ipython",
    "version": 2
   },
   "file_extension": ".py",
   "mimetype": "text/x-python",
   "name": "python",
   "nbconvert_exporter": "python",
   "pygments_lexer": "ipython2",
   "version": "2.7.6"
  }
 },
 "nbformat": 4,
 "nbformat_minor": 5
}
