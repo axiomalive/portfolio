{
 "cells": [
  {
   "cell_type": "markdown",
   "metadata": {
    "id": "u71Nck6T8_9V"
   },
   "source": [
    "Тестовое задание\n",
    "================"
   ]
  },
  {
   "cell_type": "code",
   "execution_count": 52,
   "outputs": [],
   "source": [
    "import re\n",
    "from typing import Dict, List\n",
    "from matplotlib import pyplot\n",
    "import sqlite3\n",
    "import pandas\n",
    "import math\n",
    "import numpy"
   ],
   "metadata": {
    "collapsed": false,
    "ExecuteTime": {
     "end_time": "2024-01-23T14:11:54.074048357Z",
     "start_time": "2024-01-23T14:11:54.031614700Z"
    }
   }
  },
  {
   "cell_type": "code",
   "execution_count": 53,
   "outputs": [],
   "source": [
    "pandas.set_option(\"display.max_columns\", 30)"
   ],
   "metadata": {
    "collapsed": false,
    "ExecuteTime": {
     "end_time": "2024-01-23T14:11:54.076623768Z",
     "start_time": "2024-01-23T14:11:54.038323522Z"
    }
   }
  },
  {
   "cell_type": "markdown",
   "metadata": {
    "id": "mG0IiRJ98_9Z"
   },
   "source": [
    "## SQL\n",
    "\n",
    "В *SQLite* файле `issues.db` находится таблица `history`.\n",
    "\n",
    "Таблица содержит следующие колонки:\n",
    "* `issue_key` – уникальный ключ задачи\n",
    "* `status` – статус задачи\n",
    "* `minutes_in_status` – количество минут, которое задача находилась в статусе\n",
    "* `previous_status` – предыдущий статус задачи\n",
    "* `status_begin` – время перехода задачи в текущий статус\n",
    "* `status_end` – время окончания нахождения задачи в текущем статусе\n",
    "\n",
    "Время `status_begin` и `ended_at` указаны в формате unix epoch в *миллисекундах*."
   ]
  },
  {
   "cell_type": "markdown",
   "metadata": {
    "id": "DR1RNx298_9b"
   },
   "source": [
    "### Задача 1\n",
    "\n",
    "Напишите SQL запрос, который для всех задач, открытых на момент времени `T`, выведет:\n",
    "* ключ задачи\n",
    "* время создания задачи\n",
    "* статус на момент `T`\n",
    "\n",
    "Задача считается открытой на момент времени `T`, если к этому времени последний статус задачи был любой кроме `Closed` и `Resolved`.\n",
    "\n",
    "Оформите запрос таким образом, чтобы, изменив дату, его можно было использовать для поиска открытых задач в любой момент времени как в прошлом, так и в настоящем.\n",
    "\n",
    "Здесь и далее все даты и времена должны быть переведены в удобочитаемый вид."
   ]
  },
  {
   "cell_type": "code",
   "execution_count": 54,
   "outputs": [],
   "source": [
    "connection = sqlite3.connect(\"issues.db\")"
   ],
   "metadata": {
    "collapsed": false,
    "ExecuteTime": {
     "end_time": "2024-01-23T14:11:54.129845949Z",
     "start_time": "2024-01-23T14:11:54.043787033Z"
    }
   }
  },
  {
   "cell_type": "code",
   "execution_count": 55,
   "metadata": {
    "id": "yz3qvwDJ8_9b",
    "ExecuteTime": {
     "end_time": "2024-01-23T14:11:54.150175869Z",
     "start_time": "2024-01-23T14:11:54.048658411Z"
    }
   },
   "outputs": [
    {
     "name": "stdout",
     "output_type": "stream",
     "text": [
      "('A-31053', 'Open', '2020-10-21 15:08:13')\n",
      "('A-32133', 'Open', '2021-04-29 09:55:29')\n",
      "('A-37761', 'In Owl', '2022-12-28 08:18:46')\n",
      "('A-42030', 'Open', '2022-09-01 15:04:15')\n",
      "('A-44107', 'In Owl', '2022-12-26 18:31:23')\n",
      "('A-44901', 'In Owl', '2022-12-27 12:11:12')\n",
      "('A-44916', 'Blocked', '2022-09-15 09:17:04')\n",
      "('A-47808', 'Reopened', '2022-10-31 08:54:08')\n",
      "('A-49140', 'Reopened', '2022-12-29 11:03:37')\n",
      "('A-49829', 'In Review', '2022-10-20 10:13:04')\n",
      "('A-50359', 'In Owl', '2022-11-15 06:51:48')\n",
      "('A-50422', 'In Testing', '2022-11-01 11:56:49')\n",
      "('A-51466', 'Waiting for integration', '2022-11-14 12:42:43')\n",
      "('A-52727', 'Waiting for integration', '2022-12-27 12:11:11')\n",
      "('A-52884', 'Blocked', '2022-11-28 15:12:43')\n",
      "('A-53409', 'Waiting for integration', '2022-12-12 15:08:39')\n",
      "('A-53444', 'Open', '2022-12-07 09:19:27')\n",
      "('A-53602', 'Waiting for integration', '2022-12-26 13:03:29')\n",
      "('A-53676', 'Waiting for integration', '2022-12-26 18:31:22')\n",
      "('A-54115', 'Open', '2022-12-20 17:57:23')\n",
      "('A-54133', 'Waiting for integration', '2022-12-26 14:47:37')\n",
      "('A-54460', 'In Progress', '2022-12-28 13:08:03')\n",
      "('A-54472', 'Blocked', '2023-01-09 13:10:12')\n",
      "('A-54508', 'In Progress', '2022-12-29 10:35:40')\n",
      "('A-54511', 'In Progress', '2022-12-29 11:35:16')\n",
      "('A-54645', 'In Progress', '2023-01-10 07:11:23')\n",
      "('B-4645', 'Open', '2022-12-08 16:18:44')\n",
      "('C-1', 'In Progress', '2019-06-04 14:38:59')\n",
      "('C-20610', 'Reopened', '2021-11-23 14:44:58')\n",
      "('C-21435', 'Open', '2022-04-07 12:15:34')\n",
      "('C-39466', 'In Progress', '2022-11-16 09:50:38')\n",
      "('C-40460', 'In Testing', '2022-12-07 08:25:32')\n",
      "('C-42088', 'In Testing', '2022-12-28 15:34:50')\n",
      "('D-4951', 'In Owl', '2022-12-21 10:17:40')\n",
      "('D-5051', 'Open', '2022-03-14 09:30:51')\n",
      "('D-5310', 'Open', '2022-04-18 07:48:07')\n",
      "('D-5518', 'In Progress', '2022-10-27 11:40:53')\n",
      "('D-6832', 'In Testing', '2022-12-09 10:11:28')\n",
      "('D-8', 'Open', '2019-12-27 11:34:47')\n",
      "('E-66462', 'In Testing', '2022-12-28 13:08:04')\n"
     ]
    }
   ],
   "source": [
    "query_resultset = connection.execute(\n",
    "    \"\"\"\n",
    "        select issue_key, status, datetime(round(status_begin / 1000), 'unixepoch') from history\n",
    "        group by issue_key\n",
    "        having max(datetime(round(status_begin / 1000), 'unixepoch')) <= datetime('now')\n",
    "        and status not in ('Closed', 'Resolved')\n",
    "    \"\"\"\n",
    ").fetchall()\n",
    "\n",
    "for result in query_resultset:\n",
    "    print(result)"
   ]
  },
  {
   "cell_type": "code",
   "execution_count": 56,
   "outputs": [],
   "source": [
    "connection.close()"
   ],
   "metadata": {
    "collapsed": false,
    "ExecuteTime": {
     "end_time": "2024-01-23T14:11:54.174133603Z",
     "start_time": "2024-01-23T14:11:54.108005592Z"
    }
   }
  },
  {
   "cell_type": "markdown",
   "metadata": {
    "id": "beel57fA8_9b"
   },
   "source": [
    "## Pandas\n",
    "\n",
    "Файл `task_history.csv` содержит исторические данные системы сборки (e.g. *jenkins*, *teamcity*, etc.)\n",
    "\n",
    "Каждая запись в истории описывает отдельный запуск задачи `build_name` на рабочей машине `worker`.<br/>\n",
    "Для любого запуска известны автор `author` и проект `project`, в рамках которого был запущен расчет данной задачи."
   ]
  },
  {
   "cell_type": "code",
   "execution_count": 57,
   "metadata": {
    "id": "tmHJYAa98_9c",
    "ExecuteTime": {
     "end_time": "2024-01-23T14:11:54.360574808Z",
     "start_time": "2024-01-23T14:11:54.108425701Z"
    }
   },
   "outputs": [
    {
     "data": {
      "text/plain": "   task_id               start_time              finish_time   status  \\\n0    44973  2005-06-26 09:05:45.716  2005-06-26 09:05:45.997  success   \n1    44974  2005-06-26 09:05:46.200  2005-06-26 09:05:46.497  success   \n2    44975  2005-06-26 09:05:47.357  2005-06-26 09:06:01.213  success   \n3    44977  2005-06-26 09:06:19.273  2005-06-26 09:10:44.734  success   \n4    44979  2005-06-26 09:12:00.883  2005-06-26 09:14:29.941  success   \n\n      worker         build_name       author           project  \n0  worker_00  test_cyan_texture  Kenny Smith  Halo Anniversary  \n1  worker_01  test_cyan_texture  Kenny Smith  Halo Anniversary  \n2  worker_02  test_cyan_texture  Kenny Smith  Halo Anniversary  \n3  worker_02  test_cyan_texture  Kenny Smith  Halo Anniversary  \n4  worker_04  test_cyan_texture  Kenny Smith  Halo Anniversary  ",
      "text/html": "<div>\n<style scoped>\n    .dataframe tbody tr th:only-of-type {\n        vertical-align: middle;\n    }\n\n    .dataframe tbody tr th {\n        vertical-align: top;\n    }\n\n    .dataframe thead th {\n        text-align: right;\n    }\n</style>\n<table border=\"1\" class=\"dataframe\">\n  <thead>\n    <tr style=\"text-align: right;\">\n      <th></th>\n      <th>task_id</th>\n      <th>start_time</th>\n      <th>finish_time</th>\n      <th>status</th>\n      <th>worker</th>\n      <th>build_name</th>\n      <th>author</th>\n      <th>project</th>\n    </tr>\n  </thead>\n  <tbody>\n    <tr>\n      <th>0</th>\n      <td>44973</td>\n      <td>2005-06-26 09:05:45.716</td>\n      <td>2005-06-26 09:05:45.997</td>\n      <td>success</td>\n      <td>worker_00</td>\n      <td>test_cyan_texture</td>\n      <td>Kenny Smith</td>\n      <td>Halo Anniversary</td>\n    </tr>\n    <tr>\n      <th>1</th>\n      <td>44974</td>\n      <td>2005-06-26 09:05:46.200</td>\n      <td>2005-06-26 09:05:46.497</td>\n      <td>success</td>\n      <td>worker_01</td>\n      <td>test_cyan_texture</td>\n      <td>Kenny Smith</td>\n      <td>Halo Anniversary</td>\n    </tr>\n    <tr>\n      <th>2</th>\n      <td>44975</td>\n      <td>2005-06-26 09:05:47.357</td>\n      <td>2005-06-26 09:06:01.213</td>\n      <td>success</td>\n      <td>worker_02</td>\n      <td>test_cyan_texture</td>\n      <td>Kenny Smith</td>\n      <td>Halo Anniversary</td>\n    </tr>\n    <tr>\n      <th>3</th>\n      <td>44977</td>\n      <td>2005-06-26 09:06:19.273</td>\n      <td>2005-06-26 09:10:44.734</td>\n      <td>success</td>\n      <td>worker_02</td>\n      <td>test_cyan_texture</td>\n      <td>Kenny Smith</td>\n      <td>Halo Anniversary</td>\n    </tr>\n    <tr>\n      <th>4</th>\n      <td>44979</td>\n      <td>2005-06-26 09:12:00.883</td>\n      <td>2005-06-26 09:14:29.941</td>\n      <td>success</td>\n      <td>worker_04</td>\n      <td>test_cyan_texture</td>\n      <td>Kenny Smith</td>\n      <td>Halo Anniversary</td>\n    </tr>\n  </tbody>\n</table>\n</div>"
     },
     "execution_count": 57,
     "metadata": {},
     "output_type": "execute_result"
    }
   ],
   "source": [
    "task_history = pandas.read_csv(\"task_history.csv\")\n",
    "\n",
    "task_history.head()"
   ]
  },
  {
   "cell_type": "markdown",
   "metadata": {
    "id": "exCn_xeo8_9c"
   },
   "source": [
    "### Задача 2\n",
    "\n",
    "Для каждой недели распечатайте топ-3 пользователей, потребивших наибольшее количество машиночасов (количество часов, затраченных машиной на обработку задачи).\n",
    "\n",
    "Выведите для данных пользователей процент потребленных ресурсов от общего объема расчетов за эту неделю."
   ]
  },
  {
   "cell_type": "code",
   "execution_count": 58,
   "outputs": [],
   "source": [
    "days_of_year_of_task_beginning = pandas.to_datetime(task_history[\"start_time\"]).dt.day_of_year\n",
    "days_of_year_of_task_finishing = pandas.to_datetime(task_history[\"finish_time\"]).dt.day_of_year\n",
    "\n",
    "weeks_of_task_beginning = pandas.to_datetime(task_history[\"start_time\"]).dt.isocalendar().week\n",
    "weeks_of_task_finishing = pandas.to_datetime(task_history[\"finish_time\"]).dt.isocalendar().week\n",
    "\n",
    "map_of_days_and_weeks_of_task_beginning = {day: week for day, week in zip(days_of_year_of_task_beginning, weeks_of_task_beginning)}\n",
    "map_of_days_and_weeks_of_task_finishing = {day: week for day, week in zip(days_of_year_of_task_finishing, weeks_of_task_finishing)}\n",
    "\n",
    "map_of_days_and_weeks = dict(sorted({**map_of_days_and_weeks_of_task_beginning, **map_of_days_and_weeks_of_task_finishing}.items()))\n",
    "\n",
    "task_history = task_history.reindex(task_history.columns.to_list() + [f\"resource_usage_for_day{day}\" for day in map_of_days_and_weeks.keys()], axis=1)\n",
    "\n",
    "for (index, task), day_of_year_of_task_beginning, day_of_year_of_task_finishing in zip(task_history.iterrows(), days_of_year_of_task_beginning, days_of_year_of_task_finishing):\n",
    "    date_of_task_beginning = pandas.Timestamp(task['start_time'])\n",
    "    date_of_task_finishing = pandas.Timestamp(task['finish_time'])\n",
    "    if day_of_year_of_task_beginning == day_of_year_of_task_finishing:\n",
    "        build_time: pandas.Timedelta = date_of_task_finishing - date_of_task_beginning\n",
    "        task_history.at[index, f\"resource_usage_for_day{day_of_year_of_task_beginning}\"] = build_time.seconds\n",
    "    else:\n",
    "        next_day = pandas.Timestamp(year=date_of_task_finishing.year, month=date_of_task_finishing.month, day=date_of_task_finishing.day)\n",
    "        build_time_for_day_of_task_beginning: pandas.Timedelta = next_day - date_of_task_beginning\n",
    "        build_time_for_day_of_task_finishing: pandas.Timedelta = date_of_task_finishing - next_day\n",
    "\n",
    "        task_history.at[index, f\"resource_usage_for_day{day_of_year_of_task_beginning}\"] = build_time_for_day_of_task_beginning.seconds\n",
    "        task_history.at[index, f\"resource_usage_for_day{day_of_year_of_task_finishing}\"] = build_time_for_day_of_task_finishing.seconds"
   ],
   "metadata": {
    "collapsed": false,
    "ExecuteTime": {
     "end_time": "2024-01-23T14:12:06.845027409Z",
     "start_time": "2024-01-23T14:11:54.403143683Z"
    }
   }
  },
  {
   "cell_type": "code",
   "execution_count": 59,
   "outputs": [
    {
     "name": "stdout",
     "output_type": "stream",
     "text": [
      "Week:25.\n",
      "Usage: 45%. User: Bendy Python.\n",
      "Usage: 4%. User: Marsha Koltron.\n",
      "Usage: 2%. User: Java Smoozy.\n",
      "Week:26.\n",
      "Usage: 38%. User: Bendy Python.\n",
      "Usage: 6%. User: Marsha Koltron.\n",
      "Usage: 4%. User: John Ivanov.\n",
      "Week:27.\n",
      "Usage: 40%. User: Bendy Python.\n",
      "Usage: 5%. User: Java Smoozy.\n",
      "Usage: 3%. User: Eric Smith.\n",
      "Week:28.\n",
      "Usage: 45%. User: Bendy Python.\n",
      "Usage: 4%. User: Kenny Ivanov.\n",
      "Usage: 3%. User: John Kotlin.\n",
      "Week:29.\n",
      "Usage: 75%. User: Bendy Python.\n",
      "Usage: 15%. User: John Koltron.\n",
      "Usage: 4%. User: John Ivanov.\n"
     ]
    }
   ],
   "source": [
    "weeks : List[int] = list(set(weeks_of_task_beginning).union(set(weeks_of_task_finishing)))\n",
    "\n",
    "authors : List[str] = task_history[\"author\"].unique()\n",
    "\n",
    "resource_usage_by_each_author_per_week: Dict[int, Dict[str, int]] = {week: {author: 0 for author in authors} for week in weeks}\n",
    "\n",
    "for day_of_year, week in map_of_days_and_weeks.items():\n",
    "    label_of_day_of_year = f\"resource_usage_for_day{day_of_year}\"\n",
    "    task_history_grouped_by_author = task_history[task_history[label_of_day_of_year].notna()].groupby(\"author\")\n",
    "\n",
    "    resource_usage_per_day_of_year_and_author = task_history_grouped_by_author[label_of_day_of_year].sum()\n",
    "    \n",
    "    for author in task_history_grouped_by_author.groups.keys():\n",
    "        resource_usage_by_each_author_per_week[week][author] += resource_usage_per_day_of_year_and_author[author]\n",
    "\n",
    "for week, usages in resource_usage_by_each_author_per_week.items():\n",
    "    sorted_usages = list(dict(sorted(usages.items(), key=lambda usage : usage[1], reverse=True)).items())\n",
    "    \n",
    "    total_build_time_per_week = 0\n",
    "    for author, usage in sorted_usages:\n",
    "        total_build_time_per_week += usage\n",
    "    print(f\"Week:{week}.\")\n",
    "    for author, usage in sorted_usages[:3]:\n",
    "        print(f\"Usage: {int(usage * 100 // total_build_time_per_week)}%. User: {author}.\")"
   ],
   "metadata": {
    "collapsed": false,
    "ExecuteTime": {
     "end_time": "2024-01-23T14:12:06.960818138Z",
     "start_time": "2024-01-23T14:12:06.856986011Z"
    }
   }
  },
  {
   "cell_type": "markdown",
   "metadata": {
    "id": "R0QobkDE8_9d"
   },
   "source": [
    "### Задача 3\n",
    "\n",
    "Отобразите график с ежедневным потреблением машинного времени каждым проектом."
   ]
  },
  {
   "cell_type": "code",
   "execution_count": 60,
   "metadata": {
    "id": "n6_TP1qj8_9d",
    "ExecuteTime": {
     "end_time": "2024-01-23T14:12:07.045228253Z",
     "start_time": "2024-01-23T14:12:06.962555983Z"
    }
   },
   "outputs": [],
   "source": [
    "days_of_year = list(map_of_days_and_weeks.keys())\n",
    "\n",
    "resource_usage_by_each_project_per_day_of_year = []\n",
    "for day_of_year in days_of_year:\n",
    "    resource_usage_for_day_of_year = f\"resource_usage_for_day{day_of_year}\"\n",
    "    task_history_filtered_from_na = task_history[task_history[resource_usage_for_day_of_year].notna()]\n",
    "    resource_usage_per_day_of_year = task_history_filtered_from_na.groupby(\"project\")[resource_usage_for_day_of_year].sum() / 3600\n",
    "    resource_usage_by_each_project_per_day_of_year.append(resource_usage_per_day_of_year.values)\n",
    "\n",
    "resource_usage_by_each_project = numpy.reshape(\n",
    "    resource_usage_by_each_project_per_day_of_year,\n",
    "    (\n",
    "    len(resource_usage_by_each_project_per_day_of_year[0]),\n",
    "    len(resource_usage_by_each_project_per_day_of_year)\n",
    "    )\n",
    ")"
   ]
  },
  {
   "cell_type": "code",
   "execution_count": 61,
   "outputs": [
    {
     "data": {
      "text/plain": "<Figure size 640x480 with 1 Axes>",
      "image/png": "[encoded data removed]"
     },
     "metadata": {},
     "output_type": "display_data"
    }
   ],
   "source": [
    "project_names = list(set(task_history.groupby(\"project\").groups.keys()))\n",
    "\n",
    "x = map_of_days_and_weeks\n",
    "y = resource_usage_by_each_project\n",
    "\n",
    "figure, axis = pyplot.subplots()\n",
    "\n",
    "for i, project_name in enumerate(project_names):\n",
    "    axis.bar(days_of_year, resource_usage_by_each_project[i], label=project_name)\n",
    "\n",
    "pyplot.legend(bbox_to_anchor=(1.0, 1.025), loc=\"upper left\")\n",
    "pyplot.ticklabel_format(style=\"plain\")\n",
    "pyplot.yticks(numpy.arange(0, numpy.max(resource_usage_by_each_project), 100))\n",
    "pyplot.ylabel(\"Machine time usage (hours)\")\n",
    "pyplot.xlim((days_of_year[0] - 1, days_of_year[len(days_of_year) - 1] + 1))\n",
    "pyplot.xlabel(\"Days of year\")\n",
    "\n",
    "pyplot.show()"
   ],
   "metadata": {
    "collapsed": false,
    "ExecuteTime": {
     "end_time": "2024-01-23T14:12:07.279897127Z",
     "start_time": "2024-01-23T14:12:07.049195713Z"
    }
   }
  },
  {
   "cell_type": "markdown",
   "source": [
    "### Задача 4\n",
    "\n",
    "Рассмотрим *еженедельное* общее потребление ресурсов. На второй неделе можно заметить всплеск нагрузки с ее последующим планомерным снижением.\n",
    "\n",
    "Проанализируйте предоставленные данные и найдите, с чем связано подобное поведение."
   ],
   "metadata": {
    "collapsed": false
   }
  },
  {
   "cell_type": "code",
   "execution_count": 62,
   "outputs": [
    {
     "name": "stdout",
     "output_type": "stream",
     "text": [
      "Week: 25. Number of tasks: 37416\n",
      "Week: 26. Number of tasks: 39812\n",
      "Week: 27. Number of tasks: 42833\n",
      "Week: 28. Number of tasks: 42021\n",
      "Week: 29. Number of tasks: 45\n"
     ]
    }
   ],
   "source": [
    "tasks_per_week: Dict[int, int] = {week_number: 0 for week_number in weeks}\n",
    "\n",
    "for day_of_year, week in map_of_days_and_weeks.items():\n",
    "    label_of_day_of_year = f\"resource_usage_for_day{day_of_year}\"\n",
    "    \n",
    "    task_history_filtered_from_na = task_history[task_history[label_of_day_of_year].notna()]\n",
    "\n",
    "    tasks_per_day_of_year = task_history_filtered_from_na[\"build_name\"].count()\n",
    "    tasks_per_week[week] += tasks_per_day_of_year\n",
    "\n",
    "for week, tasks in tasks_per_week.items():\n",
    "    print(f\"Week: {week}. Number of tasks: {tasks}\")"
   ],
   "metadata": {
    "collapsed": false,
    "ExecuteTime": {
     "end_time": "2024-01-23T14:12:07.383162746Z",
     "start_time": "2024-01-23T14:12:07.283235995Z"
    }
   }
  },
  {
   "cell_type": "code",
   "execution_count": 63,
   "outputs": [
    {
     "name": "stdout",
     "output_type": "stream",
     "text": [
      "Week: 25. Builds: 36%.\n",
      "Week: 26. Builds: 38%.\n",
      "Week: 27. Builds: 36%.\n",
      "Week: 28. Builds: 34%.\n",
      "Week: 29. Builds: 26%.\n"
     ]
    }
   ],
   "source": [
    "builds_per_week: Dict[int, int] = {week_number: 0 for week_number in weeks}\n",
    "\n",
    "for day_of_year, week in map_of_days_and_weeks.items():\n",
    "    label_of_day_of_year = f\"resource_usage_for_day{day_of_year}\"\n",
    "    \n",
    "    task_history_filtered_from_na = task_history[task_history[label_of_day_of_year].notna()]\n",
    "\n",
    "    builds_per_day_of_year = task_history_filtered_from_na[\"build_name\"].where(lambda build_names: build_names.str.startswith(\"build_\")).count()\n",
    "    builds_per_week[week] += builds_per_day_of_year\n",
    "\n",
    "for week, deploys, tasks in zip(weeks, builds_per_week.values(), tasks_per_week.values()):\n",
    "    print(f\"Week: {week}. Builds: {(deploys * 100) // tasks}%.\")"
   ],
   "metadata": {
    "collapsed": false,
    "ExecuteTime": {
     "end_time": "2024-01-23T14:12:07.445997228Z",
     "start_time": "2024-01-23T14:12:07.371843212Z"
    }
   }
  },
  {
   "cell_type": "code",
   "execution_count": 64,
   "outputs": [
    {
     "name": "stdout",
     "output_type": "stream",
     "text": [
      "{25: 4584.0, 26: 6675.0, 27: 5335.0, 28: 4300.0, 29: 5.0}\n"
     ]
    }
   ],
   "source": [
    "build_costs_by_each_project_per_day_of_year = {week: 0 for week in map_of_days_and_weeks.values()}\n",
    "\n",
    "for day_of_year, week in map_of_days_and_weeks.items():\n",
    "    resource_usage_for_day_of_year = f\"resource_usage_for_day{day_of_year}\"\n",
    "    \n",
    "    task_history_filtered_from_na = task_history[task_history[resource_usage_for_day_of_year].notna()]\n",
    "    \n",
    "    build_costs_per_day_of_year = task_history_filtered_from_na[task_history_filtered_from_na.apply(lambda task: task[\"build_name\"].startswith(\"build_\"), axis=1)][resource_usage_for_day_of_year].sum() // 3600\n",
    "    build_costs_by_each_project_per_day_of_year[week] += build_costs_per_day_of_year\n",
    "\n",
    "print(build_costs_by_each_project_per_day_of_year)"
   ],
   "metadata": {
    "collapsed": false,
    "ExecuteTime": {
     "end_time": "2024-01-23T14:12:08.336336817Z",
     "start_time": "2024-01-23T14:12:07.436108438Z"
    }
   }
  },
  {
   "cell_type": "markdown",
   "source": [
    "Из того, что успел проанализировать: на второй неделе наблюдается рост количества задач связанных именно со сборкой проекта. \n",
    "\n",
    "В то же время в среднем сборка является самой ресурсозатратной задачей из представленных, что и обсуславливает скачек нагрузки."
   ],
   "metadata": {
    "collapsed": false
   }
  }
 ],
 "metadata": {
  "colab": {
   "provenance": []
  },
  "kernelspec": {
   "display_name": "Python 3 (ipykernel)",
   "language": "python",
   "name": "python3"
  },
  "language_info": {
   "codemirror_mode": {
    "name": "ipython",
    "version": 3
   },
   "file_extension": ".py",
   "mimetype": "text/x-python",
   "name": "python",
   "nbconvert_exporter": "python",
   "pygments_lexer": "ipython3",
   "version": "3.9.5"
  }
 },
 "nbformat": 4,
 "nbformat_minor": 4
}
